{
 "cells": [
  {
   "cell_type": "markdown",
   "metadata": {},
   "source": [
    "# Activity detector\n",
    "## \\[5ARB0\\] Data Acquisition and Analysis - Technical Assignment"
   ]
  },
  {
   "cell_type": "code",
   "execution_count": 1,
   "metadata": {},
   "outputs": [],
   "source": [
    "# this cell imports the libraries or packages that you can use during this assignment\n",
    "# you are not allowed to import additional libraries or packages\n",
    "from helpers import *\n",
    "import matplotlib.pyplot as plt\n",
    "import numpy as np\n",
    "import pandas as pd\n",
    "from scipy.stats import multivariate_normal\n",
    "from sklearn.decomposition import FastICA, PCA"
   ]
  },
  {
   "cell_type": "markdown",
   "metadata": {},
   "source": [
    "> **Important**\n",
    ">\n",
    "> Do not import any other packages or libraries than the ones already provided to you.\n",
    ">\n",
    "> Write your code between the `BEGIN_TODO` and `END_TODO` markers. Do not change these markers.\n",
    ">\n",
    "> Restart your notebook and run all cells before submission."
   ]
  },
  {
   "cell_type": "markdown",
   "metadata": {},
   "source": [
    "## Introduction\n",
    "In this assignment you will learn about unsupervised machine learning methods and apply them to create an activity detector. After collecting and preprocessing sensor recording, you will use the deterministic K-means algorithms for clustering data. Next up you will consider using a generative or probabilistic model for modeling (overlapping) clusters of data. Finally, you will put these methodologies into practice for creating an activity detector.\n",
    "\n",
    "This assignment is split into 6 parts. Parts 1-3 encompass the collection, preprocessing and feature extraction of sensor recordings. Part 4 will guide you through implementing your own K-means algorithm. Part 5 will introduce you to the Gaussian mixture model, which you will train using the expectation-maximization algorithm. Finally, in part 6 you will combine both techniques to create an activity detector.\n",
    "\n",
    "### Learning goals\n",
    "After this assignment you can\n",
    "- implement the K-means algorithm;\n",
    "- explain issues and shortcoming of the K-means algorithm;\n",
    "- implement the Gaussian mixture model for clustering;\n",
    "- explain how the Gaussian mixture model differs from the K-means algorithm;\n",
    "- apply both algorithms on a real data set;"
   ]
  },
  {
   "cell_type": "markdown",
   "metadata": {},
   "source": [
    "## Part 1: Data collection"
   ]
  },
  {
   "cell_type": "markdown",
   "metadata": {},
   "source": [
    "Download an app that can record the sensor readings of your phone. For this purpose we recommend the free _Sensor Logger_ app (available on [iOS](https://apps.apple.com/us/app/sensor-logger/id1531582925) and [Android](https://play.google.com/store/apps/details?id=com.kelvin.sensorapp&hl=nl&gl=US)). Other apps are also allowed, but are not supported by the course. \n",
    "\n",
    "> (For iPhone) If you have issues accessing the (live) calibrated data of the _Sensor Logger_ app, you need to enable motion and compas calibration on your phone as explained [here](https://www.lifewire.com/how-to-calibrate-an-iphone-4172146). You will notice this once the live view and the export yield empty results.\n",
    "\n",
    "Collect the data which you deem necessary for your experiment (a minimum of 2 sensors is required). Think carefully about what you want to measure and how you would like to measure it."
   ]
  },
  {
   "cell_type": "markdown",
   "metadata": {},
   "source": [
    "## Part 2: Data cleaning and preprocessing\n",
    "In this part you will be working on cleaning and preprocessing the data that you have gathered for further analysis.\n"
   ]
  },
  {
   "cell_type": "markdown",
   "metadata": {},
   "source": [
    "---\n",
    "---\n",
    "### Exercise 2.1: Read, merge and select data (10 points) \n",
    "Load the desired recordings in a Pandas DataFrame called `data`. You may want to have a look at the `pd.merge_asof` function to combine the individual recordings. Make sure that the `data` dataframe does not contain any `NaN`'s or empty fields as a result of different sampling frequencies. Any columns/recordings that you will not be using in your experiment should be removed from `data` (except for the `seconds_elapsed` column). Also remove duplicate colums. In the end your dataframe should have an indexing column, a column called `seconds_elapsed`, followed by the columns corresponding to the measurements."
   ]
  },
  {
   "cell_type": "code",
   "execution_count": 2,
   "metadata": {},
   "outputs": [
    {
     "name": "stdout",
     "output_type": "stream",
     "text": [
      "Read path: c:\\Users\\lmd\\Desktop\\lmd7\\5ARB0_1_1\\data \n",
      "\n",
      "c:\\Users\\lmd\\Desktop\\lmd7\\5ARB0_1_1\\data missing.\n",
      "Read path: c:\\Users\\lmd\\Desktop\\lmd7\\5ARB0_1_1\\data\\2022-09-09_13-14-55 \n",
      "\n",
      "c:\\Users\\lmd\\Desktop\\lmd7\\5ARB0_1_1\\data\\2022-09-09_13-14-55 missing.\n",
      "Read path: c:\\Users\\lmd\\Desktop\\lmd7\\5ARB0_1_1\\data\\2022-09-16_11-15-46 \n",
      "\n",
      "Match folder, 2 c:\\Users\\lmd\\Desktop\\lmd7\\5ARB0_1_1\\data\\2022-09-16_11-15-46 \n",
      "\n",
      "Final return file router: c:\\Users\\lmd\\Desktop\\lmd7\\5ARB0_1_1\\data\\2022-09-16_11-15-46\n",
      "Accelerometer.csv is in the list\n",
      "no null space in  Accelerometer.csv\n",
      "Gyroscope.csv is in the list\n",
      "no null space in  Gyroscope.csv\n",
      "Match\n"
     ]
    }
   ],
   "source": [
    "#// BEGIN_TODO [5ARB0_ActivityDetector_2_1] Read, merge and select data (10 points)\n",
    "\n",
    "def find_csv_filenames(path_to_dir, suffix=\".csv\"):\n",
    "    \"\"\"\n",
    "    find all csv files in the folder directory route.\\\\\n",
    "    `path_to_dir` is the route directory, using os.getcwd() for the current folder as an example.\\\\\n",
    "    Return a list.\n",
    "    \"\"\"\n",
    "    filenames = os.listdir(path_to_dir)\n",
    "    return [filename for filename in filenames if filename.endswith(suffix)]\n",
    "\n",
    "def readCSVfiles(filenames,Path, input_files):\n",
    "    \"\"\"\n",
    "    # read collected data with csv files\n",
    "    ----------------------------------------------------------------\n",
    "    filenames - from `find_csv_filenames` - a list \\\\\n",
    "    Path - the absolute path \\\\\n",
    "    input_files - the list with desired data files. \\\\\n",
    "    # return dictionary data\n",
    "    - df = {'file1 name': dataframe1, 'file2 name': dataframe2...}\n",
    "    -----------\n",
    "    `if filenames[x] in input_files:  # check if file is needed\n",
    "            print(filenames[x], 'is in the list')\n",
    "\t# create dictionary with filenames as keys and drop the time column\n",
    "\t# if null in the dataframe\n",
    "            df[filenames[x]] = pd.read_csv(filenames[x]).drop('time', axis=1)\n",
    "            if df[filenames[x]].isnull().values.any():  \n",
    "                print('Find empty')\n",
    "                df[filenames[x]] = df[filenames[x]].dropna()\n",
    "            else:\n",
    "                print('no null space in ', filenames[x])`\n",
    "    \"\"\"\n",
    "    df = {}\n",
    "    x = 0\n",
    "    if input_files in filenames:\n",
    "        print('missing file.')\n",
    "    for filenames[x] in filenames:\n",
    "        if filenames[x] in input_files:  # check if file is needed\n",
    "            print(filenames[x], 'is in the list')\n",
    "            # create dictionary with filenames as keys and drop the time column\n",
    "            df[filenames[x]] = pd.read_csv(Path+'/'+filenames[x]).drop('time', axis=1)\n",
    "            if df[filenames[x]].isnull().values.any():  # if null in the dataframe\n",
    "                print('Find empty null space')\n",
    "                df[filenames[x]] = df[filenames[x]].dropna()\n",
    "            else:\n",
    "                print('no null space in ', filenames[x])\n",
    "        else:\n",
    "            pass\n",
    "            #print('file not in the list')\n",
    "        x = x+1\n",
    "\n",
    "    \n",
    "    return(df)\n",
    "def Check_filesNo(folder_name,Infiles,current=True):\n",
    "    \"\"\"\n",
    "    # `Check_filesNo(folder_list,Infiles)`\n",
    "    `folder_name`: Manual keyin. Data folder. \\\\\n",
    "    `Infiles`: Interested files list.\n",
    "    `current`: `True`(default)- check current folder files. `False`- check manually keyin `folder_name` directory.\n",
    "    ----------------------------------------------------------------\n",
    "    Check all Infiles in folder_list, if match, will return `Folder route`\n",
    "    \"\"\"\n",
    "    if current ==True:\n",
    "        return (os.getcwd()) # search through current folder only.\n",
    "    else:\n",
    "        if current == False:\n",
    "            if os.path.isdir(str(folder_name)):\n",
    "                PATH = os.path.join(os.getcwd(),str(folder_name)) # use os.getcwd find current route, and joinned with interested folder name.\n",
    "                folder_list = [x[0] for x in os.walk(PATH)]       # list all folder under the folder_name.\n",
    "\n",
    "                # check if recorded files sufficient.\n",
    "                for j in range(len(folder_list)):\n",
    "                    print('Read path:', folder_list[j], '\\n')     # check read file route.\n",
    "                    filename = find_csv_filenames(folder_list[j]) # list of all files with csv file\n",
    "                    sub_set = set(filename)\n",
    "                    if set(Infiles).issubset(set(filename)):\n",
    "                        print('Match folder,',j,folder_list[j],'\\n') \n",
    "                        Folder_route = folder_list[j]\n",
    "                    else:\n",
    "                        print(folder_list[j],'missing.')        # if found missing file under folder, return missing warning.\n",
    "\n",
    "            else:\n",
    "                pass\n",
    "        return(Folder_route) # string of folder route.        \n",
    "\n",
    "# list of necessary files\n",
    "Infiles = ['Accelerometer.csv', 'Gyroscope.csv']  \n",
    "# get file route\n",
    "file_rt = Check_filesNo('data', Infiles, False)  # return file return\n",
    "# print file route\n",
    "print('Final return file router:', file_rt)\n",
    "\n",
    "filename = find_csv_filenames(file_rt)  # all csv under file_rt (route)\n",
    "df = readCSVfiles(filename, file_rt, Infiles)  # pd.read csv file\n",
    "\n",
    "# merge files\n",
    "data = pd.merge_asof(df[Infiles[0]], df[Infiles[1]], on='seconds_elapsed')\n",
    "r1 = df[Infiles[0]].shape[1]  # number of rows\n",
    "r2 = df[Infiles[1]].shape[1]\n",
    "if (data.shape[1]+1) == (r1+r2):\n",
    "    print('Match')\n",
    "else:\n",
    "    print('didnt match, merged row numbers:', data.shape[1])\n",
    "#// END_TODO [5ARB0_ActivityDetector_2_1]"
   ]
  },
  {
   "cell_type": "code",
   "execution_count": 3,
   "metadata": {},
   "outputs": [
    {
     "data": {
      "text/html": [
       "<div>\n",
       "<style scoped>\n",
       "    .dataframe tbody tr th:only-of-type {\n",
       "        vertical-align: middle;\n",
       "    }\n",
       "\n",
       "    .dataframe tbody tr th {\n",
       "        vertical-align: top;\n",
       "    }\n",
       "\n",
       "    .dataframe thead th {\n",
       "        text-align: right;\n",
       "    }\n",
       "</style>\n",
       "<table border=\"1\" class=\"dataframe\">\n",
       "  <thead>\n",
       "    <tr style=\"text-align: right;\">\n",
       "      <th></th>\n",
       "      <th>seconds_elapsed</th>\n",
       "      <th>z_x</th>\n",
       "      <th>y_x</th>\n",
       "      <th>x_x</th>\n",
       "      <th>z_y</th>\n",
       "      <th>y_y</th>\n",
       "      <th>x_y</th>\n",
       "    </tr>\n",
       "  </thead>\n",
       "  <tbody>\n",
       "    <tr>\n",
       "      <th>0</th>\n",
       "      <td>0.759861</td>\n",
       "      <td>0.082162</td>\n",
       "      <td>0.445240</td>\n",
       "      <td>-0.873332</td>\n",
       "      <td>1.544008</td>\n",
       "      <td>-0.050707</td>\n",
       "      <td>-0.009774</td>\n",
       "    </tr>\n",
       "    <tr>\n",
       "      <th>1</th>\n",
       "      <td>0.769817</td>\n",
       "      <td>0.098772</td>\n",
       "      <td>0.138311</td>\n",
       "      <td>-0.701677</td>\n",
       "      <td>1.538340</td>\n",
       "      <td>0.021202</td>\n",
       "      <td>0.021893</td>\n",
       "    </tr>\n",
       "    <tr>\n",
       "      <th>2</th>\n",
       "      <td>0.779774</td>\n",
       "      <td>-0.081512</td>\n",
       "      <td>0.295334</td>\n",
       "      <td>-0.287733</td>\n",
       "      <td>1.599437</td>\n",
       "      <td>0.007820</td>\n",
       "      <td>0.010326</td>\n",
       "    </tr>\n",
       "    <tr>\n",
       "      <th>3</th>\n",
       "      <td>0.789730</td>\n",
       "      <td>-0.106220</td>\n",
       "      <td>0.693047</td>\n",
       "      <td>-0.036407</td>\n",
       "      <td>1.677382</td>\n",
       "      <td>-0.013688</td>\n",
       "      <td>0.004111</td>\n",
       "    </tr>\n",
       "    <tr>\n",
       "      <th>4</th>\n",
       "      <td>0.799687</td>\n",
       "      <td>-0.162763</td>\n",
       "      <td>0.920265</td>\n",
       "      <td>0.441457</td>\n",
       "      <td>1.780172</td>\n",
       "      <td>0.014400</td>\n",
       "      <td>0.006886</td>\n",
       "    </tr>\n",
       "    <tr>\n",
       "      <th>...</th>\n",
       "      <td>...</td>\n",
       "      <td>...</td>\n",
       "      <td>...</td>\n",
       "      <td>...</td>\n",
       "      <td>...</td>\n",
       "      <td>...</td>\n",
       "      <td>...</td>\n",
       "    </tr>\n",
       "    <tr>\n",
       "      <th>2059</th>\n",
       "      <td>21.260829</td>\n",
       "      <td>0.084030</td>\n",
       "      <td>-0.057202</td>\n",
       "      <td>0.011003</td>\n",
       "      <td>0.001453</td>\n",
       "      <td>-0.004030</td>\n",
       "      <td>0.002570</td>\n",
       "    </tr>\n",
       "    <tr>\n",
       "      <th>2060</th>\n",
       "      <td>21.270785</td>\n",
       "      <td>0.002930</td>\n",
       "      <td>-0.026044</td>\n",
       "      <td>0.054504</td>\n",
       "      <td>-0.001855</td>\n",
       "      <td>-0.002240</td>\n",
       "      <td>-0.001006</td>\n",
       "    </tr>\n",
       "    <tr>\n",
       "      <th>2061</th>\n",
       "      <td>21.280742</td>\n",
       "      <td>-0.114242</td>\n",
       "      <td>-0.038044</td>\n",
       "      <td>0.070609</td>\n",
       "      <td>0.000911</td>\n",
       "      <td>-0.005023</td>\n",
       "      <td>-0.006203</td>\n",
       "    </tr>\n",
       "    <tr>\n",
       "      <th>2062</th>\n",
       "      <td>21.290699</td>\n",
       "      <td>-0.106477</td>\n",
       "      <td>-0.095897</td>\n",
       "      <td>0.024422</td>\n",
       "      <td>-0.000531</td>\n",
       "      <td>-0.008525</td>\n",
       "      <td>-0.008533</td>\n",
       "    </tr>\n",
       "    <tr>\n",
       "      <th>2063</th>\n",
       "      <td>21.300656</td>\n",
       "      <td>-0.046183</td>\n",
       "      <td>-0.143621</td>\n",
       "      <td>-0.001448</td>\n",
       "      <td>-0.001515</td>\n",
       "      <td>0.002020</td>\n",
       "      <td>-0.002822</td>\n",
       "    </tr>\n",
       "  </tbody>\n",
       "</table>\n",
       "<p>2064 rows × 7 columns</p>\n",
       "</div>"
      ],
      "text/plain": [
       "      seconds_elapsed       z_x       y_x       x_x       z_y       y_y  \\\n",
       "0            0.759861  0.082162  0.445240 -0.873332  1.544008 -0.050707   \n",
       "1            0.769817  0.098772  0.138311 -0.701677  1.538340  0.021202   \n",
       "2            0.779774 -0.081512  0.295334 -0.287733  1.599437  0.007820   \n",
       "3            0.789730 -0.106220  0.693047 -0.036407  1.677382 -0.013688   \n",
       "4            0.799687 -0.162763  0.920265  0.441457  1.780172  0.014400   \n",
       "...               ...       ...       ...       ...       ...       ...   \n",
       "2059        21.260829  0.084030 -0.057202  0.011003  0.001453 -0.004030   \n",
       "2060        21.270785  0.002930 -0.026044  0.054504 -0.001855 -0.002240   \n",
       "2061        21.280742 -0.114242 -0.038044  0.070609  0.000911 -0.005023   \n",
       "2062        21.290699 -0.106477 -0.095897  0.024422 -0.000531 -0.008525   \n",
       "2063        21.300656 -0.046183 -0.143621 -0.001448 -0.001515  0.002020   \n",
       "\n",
       "           x_y  \n",
       "0    -0.009774  \n",
       "1     0.021893  \n",
       "2     0.010326  \n",
       "3     0.004111  \n",
       "4     0.006886  \n",
       "...        ...  \n",
       "2059  0.002570  \n",
       "2060 -0.001006  \n",
       "2061 -0.006203  \n",
       "2062 -0.008533  \n",
       "2063 -0.002822  \n",
       "\n",
       "[2064 rows x 7 columns]"
      ]
     },
     "execution_count": 3,
     "metadata": {},
     "output_type": "execute_result"
    }
   ],
   "source": [
    "data"
   ]
  },
  {
   "cell_type": "markdown",
   "metadata": {},
   "source": [
    "### End of exercise 2.1\n",
    "---\n",
    "---"
   ]
  },
  {
   "cell_type": "markdown",
   "metadata": {},
   "source": [
    "In order to restrict our focus to activity detection, we would like to trim the recorded segment. In this way we can remove the movements corresponding to starting and stopping the sensor logger app. \n",
    "\n",
    "---\n",
    "---\n",
    "### Exercise 2.2: Trim data (10 points)\n",
    "Remove the first and last 5 seconds of the recordings for this purpose and save this trimmed data frame to `data_trimmed`. Make sure that your code works for a data frame containing an arbitrary number of columns."
   ]
  },
  {
   "cell_type": "code",
   "execution_count": 4,
   "metadata": {},
   "outputs": [],
   "source": [
    "#// BEGIN_TODO [5ARB0_ActivityDetector_2_2] Trim data (10 points)\n",
    "\n",
    "if max(data['seconds_elapsed']) < 10:\n",
    "    print('Elapsed recording time insufficient.', '\\n')\n",
    "    print('Suggest load new record file in `Check_filesNo`.')\n",
    "    data_trimmed = None\n",
    "else:\n",
    "    df_1 = data[data['seconds_elapsed'] > 5]\n",
    "    df = df_1[df_1['seconds_elapsed'] < (max(data['seconds_elapsed']) - 5)]\n",
    "    data_trimmed = df.reset_index(drop=True)\n",
    "\n",
    "#// END_TODO [5ARB0_ActivityDetector_2_2]"
   ]
  },
  {
   "cell_type": "code",
   "execution_count": 5,
   "metadata": {},
   "outputs": [
    {
     "data": {
      "text/html": [
       "<div>\n",
       "<style scoped>\n",
       "    .dataframe tbody tr th:only-of-type {\n",
       "        vertical-align: middle;\n",
       "    }\n",
       "\n",
       "    .dataframe tbody tr th {\n",
       "        vertical-align: top;\n",
       "    }\n",
       "\n",
       "    .dataframe thead th {\n",
       "        text-align: right;\n",
       "    }\n",
       "</style>\n",
       "<table border=\"1\" class=\"dataframe\">\n",
       "  <thead>\n",
       "    <tr style=\"text-align: right;\">\n",
       "      <th></th>\n",
       "      <th>seconds_elapsed</th>\n",
       "      <th>z_x</th>\n",
       "      <th>y_x</th>\n",
       "      <th>x_x</th>\n",
       "      <th>z_y</th>\n",
       "      <th>y_y</th>\n",
       "      <th>x_y</th>\n",
       "    </tr>\n",
       "  </thead>\n",
       "  <tbody>\n",
       "    <tr>\n",
       "      <th>0</th>\n",
       "      <td>5.001415</td>\n",
       "      <td>0.937749</td>\n",
       "      <td>-0.302560</td>\n",
       "      <td>-0.676742</td>\n",
       "      <td>-0.018778</td>\n",
       "      <td>0.348560</td>\n",
       "      <td>-0.369324</td>\n",
       "    </tr>\n",
       "    <tr>\n",
       "      <th>1</th>\n",
       "      <td>5.011372</td>\n",
       "      <td>0.651123</td>\n",
       "      <td>-0.257270</td>\n",
       "      <td>-0.478853</td>\n",
       "      <td>-0.025049</td>\n",
       "      <td>0.304285</td>\n",
       "      <td>-0.295255</td>\n",
       "    </tr>\n",
       "    <tr>\n",
       "      <th>2</th>\n",
       "      <td>5.021328</td>\n",
       "      <td>0.541848</td>\n",
       "      <td>-0.174886</td>\n",
       "      <td>-0.366655</td>\n",
       "      <td>-0.006584</td>\n",
       "      <td>0.229154</td>\n",
       "      <td>-0.218308</td>\n",
       "    </tr>\n",
       "    <tr>\n",
       "      <th>3</th>\n",
       "      <td>5.031285</td>\n",
       "      <td>0.701764</td>\n",
       "      <td>-0.143197</td>\n",
       "      <td>-0.279930</td>\n",
       "      <td>0.008772</td>\n",
       "      <td>0.135466</td>\n",
       "      <td>-0.205048</td>\n",
       "    </tr>\n",
       "    <tr>\n",
       "      <th>4</th>\n",
       "      <td>5.041242</td>\n",
       "      <td>0.942130</td>\n",
       "      <td>-0.109006</td>\n",
       "      <td>-0.230385</td>\n",
       "      <td>0.010124</td>\n",
       "      <td>0.045249</td>\n",
       "      <td>-0.250820</td>\n",
       "    </tr>\n",
       "    <tr>\n",
       "      <th>...</th>\n",
       "      <td>...</td>\n",
       "      <td>...</td>\n",
       "      <td>...</td>\n",
       "      <td>...</td>\n",
       "      <td>...</td>\n",
       "      <td>...</td>\n",
       "      <td>...</td>\n",
       "    </tr>\n",
       "    <tr>\n",
       "      <th>1130</th>\n",
       "      <td>16.252560</td>\n",
       "      <td>0.440132</td>\n",
       "      <td>1.488263</td>\n",
       "      <td>-3.424579</td>\n",
       "      <td>1.028780</td>\n",
       "      <td>0.169918</td>\n",
       "      <td>0.395463</td>\n",
       "    </tr>\n",
       "    <tr>\n",
       "      <th>1131</th>\n",
       "      <td>16.262517</td>\n",
       "      <td>0.929169</td>\n",
       "      <td>1.614524</td>\n",
       "      <td>-2.944316</td>\n",
       "      <td>0.999186</td>\n",
       "      <td>-0.035313</td>\n",
       "      <td>0.220656</td>\n",
       "    </tr>\n",
       "    <tr>\n",
       "      <th>1132</th>\n",
       "      <td>16.272474</td>\n",
       "      <td>1.016814</td>\n",
       "      <td>1.461325</td>\n",
       "      <td>-2.834650</td>\n",
       "      <td>0.965758</td>\n",
       "      <td>-0.251449</td>\n",
       "      <td>0.056111</td>\n",
       "    </tr>\n",
       "    <tr>\n",
       "      <th>1133</th>\n",
       "      <td>16.282430</td>\n",
       "      <td>0.732087</td>\n",
       "      <td>1.249717</td>\n",
       "      <td>-3.006158</td>\n",
       "      <td>0.906880</td>\n",
       "      <td>-0.404517</td>\n",
       "      <td>-0.028108</td>\n",
       "    </tr>\n",
       "    <tr>\n",
       "      <th>1134</th>\n",
       "      <td>16.292386</td>\n",
       "      <td>0.219224</td>\n",
       "      <td>0.992837</td>\n",
       "      <td>-3.414636</td>\n",
       "      <td>0.781881</td>\n",
       "      <td>-0.444204</td>\n",
       "      <td>-0.007294</td>\n",
       "    </tr>\n",
       "  </tbody>\n",
       "</table>\n",
       "<p>1135 rows × 7 columns</p>\n",
       "</div>"
      ],
      "text/plain": [
       "      seconds_elapsed       z_x       y_x       x_x       z_y       y_y  \\\n",
       "0            5.001415  0.937749 -0.302560 -0.676742 -0.018778  0.348560   \n",
       "1            5.011372  0.651123 -0.257270 -0.478853 -0.025049  0.304285   \n",
       "2            5.021328  0.541848 -0.174886 -0.366655 -0.006584  0.229154   \n",
       "3            5.031285  0.701764 -0.143197 -0.279930  0.008772  0.135466   \n",
       "4            5.041242  0.942130 -0.109006 -0.230385  0.010124  0.045249   \n",
       "...               ...       ...       ...       ...       ...       ...   \n",
       "1130        16.252560  0.440132  1.488263 -3.424579  1.028780  0.169918   \n",
       "1131        16.262517  0.929169  1.614524 -2.944316  0.999186 -0.035313   \n",
       "1132        16.272474  1.016814  1.461325 -2.834650  0.965758 -0.251449   \n",
       "1133        16.282430  0.732087  1.249717 -3.006158  0.906880 -0.404517   \n",
       "1134        16.292386  0.219224  0.992837 -3.414636  0.781881 -0.444204   \n",
       "\n",
       "           x_y  \n",
       "0    -0.369324  \n",
       "1    -0.295255  \n",
       "2    -0.218308  \n",
       "3    -0.205048  \n",
       "4    -0.250820  \n",
       "...        ...  \n",
       "1130  0.395463  \n",
       "1131  0.220656  \n",
       "1132  0.056111  \n",
       "1133 -0.028108  \n",
       "1134 -0.007294  \n",
       "\n",
       "[1135 rows x 7 columns]"
      ]
     },
     "execution_count": 5,
     "metadata": {},
     "output_type": "execute_result"
    }
   ],
   "source": [
    "data_trimmed"
   ]
  },
  {
   "cell_type": "markdown",
   "metadata": {},
   "source": [
    "### End of exercise 2.2\n",
    "---\n",
    "---"
   ]
  },
  {
   "cell_type": "markdown",
   "metadata": {},
   "source": [
    "---\n",
    "---\n",
    "### Exercise 2.3: Normalize recordings (10 points)\n",
    "For improved processing, the recordings should be normalized. Normalize the recordings by subtracting its mean and by then dividing by its standard deviation. Perform this normalization for each column individually. Save your normalized data in the the data frame `data_norm`."
   ]
  },
  {
   "cell_type": "code",
   "execution_count": 6,
   "metadata": {},
   "outputs": [],
   "source": [
    "#// BEGIN_TODO [5ARB0_ActivityDetector_2_3] Normalize recordings (10 points)\n",
    "\n",
    "# data_norm0 = (data_trimmed-data_trimmed.mean())/data_trimmed.std()\n",
    "# data_norm = data_trimmed.apply(lambda x:(x-x.mean())/x.std())\n",
    "# data_norm\n",
    "data_norm = data_trimmed.apply(lambda x: (x-x.mean())/x.std())\n",
    "\n",
    "data_norm['seconds_elapsed'] = data_trimmed[['seconds_elapsed']]\n",
    "\n",
    "#// END_TODO [5ARB0_ActivityDetector_2_3]"
   ]
  },
  {
   "cell_type": "code",
   "execution_count": 7,
   "metadata": {},
   "outputs": [
    {
     "data": {
      "text/html": [
       "<div>\n",
       "<style scoped>\n",
       "    .dataframe tbody tr th:only-of-type {\n",
       "        vertical-align: middle;\n",
       "    }\n",
       "\n",
       "    .dataframe tbody tr th {\n",
       "        vertical-align: top;\n",
       "    }\n",
       "\n",
       "    .dataframe thead th {\n",
       "        text-align: right;\n",
       "    }\n",
       "</style>\n",
       "<table border=\"1\" class=\"dataframe\">\n",
       "  <thead>\n",
       "    <tr style=\"text-align: right;\">\n",
       "      <th></th>\n",
       "      <th>seconds_elapsed</th>\n",
       "      <th>z_x</th>\n",
       "      <th>y_x</th>\n",
       "      <th>x_x</th>\n",
       "      <th>z_y</th>\n",
       "      <th>y_y</th>\n",
       "      <th>x_y</th>\n",
       "    </tr>\n",
       "  </thead>\n",
       "  <tbody>\n",
       "    <tr>\n",
       "      <th>0</th>\n",
       "      <td>5.001415</td>\n",
       "      <td>0.787626</td>\n",
       "      <td>-0.481987</td>\n",
       "      <td>-0.375022</td>\n",
       "      <td>-0.055086</td>\n",
       "      <td>0.488573</td>\n",
       "      <td>-0.582131</td>\n",
       "    </tr>\n",
       "    <tr>\n",
       "      <th>1</th>\n",
       "      <td>5.011372</td>\n",
       "      <td>0.605520</td>\n",
       "      <td>-0.464965</td>\n",
       "      <td>-0.314866</td>\n",
       "      <td>-0.058991</td>\n",
       "      <td>0.423717</td>\n",
       "      <td>-0.442911</td>\n",
       "    </tr>\n",
       "    <tr>\n",
       "      <th>2</th>\n",
       "      <td>5.021328</td>\n",
       "      <td>0.536093</td>\n",
       "      <td>-0.434002</td>\n",
       "      <td>-0.280759</td>\n",
       "      <td>-0.047494</td>\n",
       "      <td>0.313662</td>\n",
       "      <td>-0.298279</td>\n",
       "    </tr>\n",
       "    <tr>\n",
       "      <th>3</th>\n",
       "      <td>5.031285</td>\n",
       "      <td>0.637694</td>\n",
       "      <td>-0.422092</td>\n",
       "      <td>-0.254395</td>\n",
       "      <td>-0.037934</td>\n",
       "      <td>0.176422</td>\n",
       "      <td>-0.273357</td>\n",
       "    </tr>\n",
       "    <tr>\n",
       "      <th>4</th>\n",
       "      <td>5.041242</td>\n",
       "      <td>0.790410</td>\n",
       "      <td>-0.409241</td>\n",
       "      <td>-0.239335</td>\n",
       "      <td>-0.037092</td>\n",
       "      <td>0.044267</td>\n",
       "      <td>-0.359390</td>\n",
       "    </tr>\n",
       "    <tr>\n",
       "      <th>...</th>\n",
       "      <td>...</td>\n",
       "      <td>...</td>\n",
       "      <td>...</td>\n",
       "      <td>...</td>\n",
       "      <td>...</td>\n",
       "      <td>...</td>\n",
       "      <td>...</td>\n",
       "    </tr>\n",
       "    <tr>\n",
       "      <th>1130</th>\n",
       "      <td>16.252560</td>\n",
       "      <td>0.471467</td>\n",
       "      <td>0.191088</td>\n",
       "      <td>-1.210333</td>\n",
       "      <td>0.597135</td>\n",
       "      <td>0.226890</td>\n",
       "      <td>0.855372</td>\n",
       "    </tr>\n",
       "    <tr>\n",
       "      <th>1131</th>\n",
       "      <td>16.262517</td>\n",
       "      <td>0.782175</td>\n",
       "      <td>0.238543</td>\n",
       "      <td>-1.064338</td>\n",
       "      <td>0.578710</td>\n",
       "      <td>-0.073743</td>\n",
       "      <td>0.526803</td>\n",
       "    </tr>\n",
       "    <tr>\n",
       "      <th>1132</th>\n",
       "      <td>16.272474</td>\n",
       "      <td>0.837860</td>\n",
       "      <td>0.180963</td>\n",
       "      <td>-1.031001</td>\n",
       "      <td>0.557897</td>\n",
       "      <td>-0.390352</td>\n",
       "      <td>0.217521</td>\n",
       "    </tr>\n",
       "    <tr>\n",
       "      <th>1133</th>\n",
       "      <td>16.282430</td>\n",
       "      <td>0.656960</td>\n",
       "      <td>0.101431</td>\n",
       "      <td>-1.083137</td>\n",
       "      <td>0.521239</td>\n",
       "      <td>-0.614573</td>\n",
       "      <td>0.059223</td>\n",
       "    </tr>\n",
       "    <tr>\n",
       "      <th>1134</th>\n",
       "      <td>16.292386</td>\n",
       "      <td>0.331115</td>\n",
       "      <td>0.004884</td>\n",
       "      <td>-1.207310</td>\n",
       "      <td>0.443413</td>\n",
       "      <td>-0.672709</td>\n",
       "      <td>0.098345</td>\n",
       "    </tr>\n",
       "  </tbody>\n",
       "</table>\n",
       "<p>1135 rows × 7 columns</p>\n",
       "</div>"
      ],
      "text/plain": [
       "      seconds_elapsed       z_x       y_x       x_x       z_y       y_y  \\\n",
       "0            5.001415  0.787626 -0.481987 -0.375022 -0.055086  0.488573   \n",
       "1            5.011372  0.605520 -0.464965 -0.314866 -0.058991  0.423717   \n",
       "2            5.021328  0.536093 -0.434002 -0.280759 -0.047494  0.313662   \n",
       "3            5.031285  0.637694 -0.422092 -0.254395 -0.037934  0.176422   \n",
       "4            5.041242  0.790410 -0.409241 -0.239335 -0.037092  0.044267   \n",
       "...               ...       ...       ...       ...       ...       ...   \n",
       "1130        16.252560  0.471467  0.191088 -1.210333  0.597135  0.226890   \n",
       "1131        16.262517  0.782175  0.238543 -1.064338  0.578710 -0.073743   \n",
       "1132        16.272474  0.837860  0.180963 -1.031001  0.557897 -0.390352   \n",
       "1133        16.282430  0.656960  0.101431 -1.083137  0.521239 -0.614573   \n",
       "1134        16.292386  0.331115  0.004884 -1.207310  0.443413 -0.672709   \n",
       "\n",
       "           x_y  \n",
       "0    -0.582131  \n",
       "1    -0.442911  \n",
       "2    -0.298279  \n",
       "3    -0.273357  \n",
       "4    -0.359390  \n",
       "...        ...  \n",
       "1130  0.855372  \n",
       "1131  0.526803  \n",
       "1132  0.217521  \n",
       "1133  0.059223  \n",
       "1134  0.098345  \n",
       "\n",
       "[1135 rows x 7 columns]"
      ]
     },
     "execution_count": 7,
     "metadata": {},
     "output_type": "execute_result"
    }
   ],
   "source": [
    "data_norm"
   ]
  },
  {
   "cell_type": "markdown",
   "metadata": {},
   "source": [
    "### End of exercise 2.3\n",
    "---\n",
    "---"
   ]
  },
  {
   "cell_type": "code",
   "execution_count": 8,
   "metadata": {},
   "outputs": [
    {
     "data": {
      "image/png": "[encoded data removed]",
      "text/plain": [
       "<Figure size 2000x1000 with 6 Axes>"
      ]
     },
     "metadata": {},
     "output_type": "display_data"
    }
   ],
   "source": [
    "# plot recordings\n",
    "ex2_plot_data(data_norm)"
   ]
  },
  {
   "cell_type": "markdown",
   "metadata": {},
   "source": [
    "## Part 3: Feature extraction\n",
    "The current data is not yet suited for detecting activities. Based on the measurements at a specific point of time, it is very difficult to determine the type of activity. Instead, it would be more appropriate to perform the activity detection over _segments_ of time. In this part you will extract features that will be used for detecting activities."
   ]
  },
  {
   "cell_type": "markdown",
   "metadata": {},
   "source": [
    "---\n",
    "---\n",
    "### Exercise 3.1: Convert data frame to matrix (10 points)\n",
    "In order to extract features from the recording, first convert the dataframe to a Numpy matrix called `mat`. This matrix should have dimensions (_nr of time points_, _nr or different recordings_). Make sure that you remove the _seconds_elapsed_ column, as this does not yield any useful information for the activity detector."
   ]
  },
  {
   "cell_type": "code",
   "execution_count": 9,
   "metadata": {},
   "outputs": [
    {
     "data": {
      "text/plain": [
       "matrix([[ 0.78762636, -0.48198741, -0.37502189, -0.05508638,  0.48857312,\n",
       "         -0.58213108],\n",
       "        [ 0.60551977, -0.46496525, -0.31486576, -0.05899087,  0.42371653,\n",
       "         -0.44291068],\n",
       "        [ 0.53609265, -0.43400154, -0.28075909, -0.04749401,  0.31366194,\n",
       "         -0.29827869],\n",
       "        ...,\n",
       "        [ 0.83786017,  0.18096338, -1.03100126,  0.55789694, -0.39035155,\n",
       "          0.21752134],\n",
       "        [ 0.65696016,  0.10143121, -1.08313748,  0.52123916, -0.61457308,\n",
       "          0.05922335],\n",
       "        [ 0.33111504,  0.00488371, -1.20731018,  0.44341307, -0.67270904,\n",
       "          0.09834547]])"
      ]
     },
     "execution_count": 9,
     "metadata": {},
     "output_type": "execute_result"
    }
   ],
   "source": [
    "#// BEGIN_TODO [5ARB0_ActivityDetector_3_1] Convert data frame to matrix (10 points)\n",
    "\n",
    "data_mat = data_norm.drop([\"seconds_elapsed\"],axis=1)\n",
    "mat = np.asmatrix(data_mat)\n",
    "mat\n",
    "\n",
    "#// END_TODO [5ARB0_ActivityDetector_3_1]"
   ]
  },
  {
   "cell_type": "markdown",
   "metadata": {},
   "source": [
    "### End of exercise 3.1\n",
    "---\n",
    "---"
   ]
  },
  {
   "cell_type": "markdown",
   "metadata": {},
   "source": [
    "Now that the data frame has been converted to a matrix, it can be split into different overlapping segments, of which we can extract features. As a starting point we will specify features as the mean value of a segment, its standard deviation, its minimum and its maximum."
   ]
  },
  {
   "cell_type": "markdown",
   "metadata": {},
   "source": [
    "---\n",
    "---\n",
    "### Exercise 3.2: Processing segments (30 points)\n",
    "Create a function `Y = process_segment(mat, fun, L, K)` that processes time segments of the matrix `mat`. The argument `fun` specifies the operation to be performed on the segment and its value comes from the set `[\"mean\", \"std\", \"minimum\", \"maximum\"]`. `L` specifies the segment length and `K` specifies the number of samples overlap between segments. The function should return a matrix `Y` with dimensions (_nr of segments_, _nr of different recordings_)"
   ]
  },
  {
   "cell_type": "code",
   "execution_count": 10,
   "metadata": {},
   "outputs": [],
   "source": [
    "#// BEGIN_TODO [5ARB0_ActivityDetector_3_2] Process segments (30 points)\n",
    "\n",
    "def process_segment(mat, fun, L, K):\n",
    "    \"\"\"\n",
    "    processes time segments of the matrix `mat` \\\\\n",
    "    `fun `operation to be performed on the segment, values from `[\"mean\", \"std\", \"minimum\", \"maximum\"]`\\\\\n",
    "    `L` - segment length \\\\\n",
    "    `K` - the number of samples overlap between segments\\\\\n",
    "    --------------------------------\n",
    "    Return matrix[Y] - (_nr of segments_, _nr of different recordings_)\\\\\n",
    "    \"\"\"\n",
    "    Y = np.zeros(shape=(mat.shape[0]//K, mat.shape[1]))\n",
    "    # shape=(mat.shape[1]+1,mat.shape[0]//K)+1\n",
    "    if fun == \"mean\":\n",
    "        for k in range(mat.shape[1]):\n",
    "            for i in range(mat.shape[0]//K):\n",
    "                Y[i, k] = np.mean(mat[i*K:i*K+L, k])\n",
    "    elif fun == \"std\":\n",
    "        for k in range(mat.shape[1]):\n",
    "            for i in range(mat.shape[0]//K):\n",
    "                Y[i, k] = np.std(mat[i*K:i*K+L, k])\n",
    "    elif fun == \"minimum\":\n",
    "        for k in range(mat.shape[1]):\n",
    "            for i in range(mat.shape[0]//K):\n",
    "                Y[i, k] = np.min(mat[i*K:i*K+L, k])\n",
    "    elif fun == \"maximum\":\n",
    "        for k in range(mat.shape[1]):\n",
    "            for i in range(mat.shape[0]//K):\n",
    "                Y[i, k] = np.max(mat[i*K:i*K+L, k])\n",
    "    else:\n",
    "        print(\"Wrong input, please retry.\")\n",
    "    return Y\n",
    "\n",
    "\n",
    "#// END_TODO [5ARB0_ActivityDetector_3_2]"
   ]
  },
  {
   "cell_type": "code",
   "execution_count": 11,
   "metadata": {},
   "outputs": [],
   "source": [
    "Y_mean = process_segment(mat, \"mean\", 100, 50)\n",
    "Y_std = process_segment(mat, \"std\", 100, 50)\n",
    "Y_minimum = process_segment(mat, \"minimum\", 100, 50)\n",
    "Y_maximum = process_segment(mat, \"maximum\", 100, 50)"
   ]
  },
  {
   "cell_type": "markdown",
   "metadata": {},
   "source": [
    "### End of exercise 3.2\n",
    "---\n",
    "---"
   ]
  },
  {
   "cell_type": "markdown",
   "metadata": {},
   "source": [
    "---\n",
    "---\n",
    "### Exercise 3.3: Concatenate features (10 points)\n",
    "Now that you have computed some features of the recordings, it becomes necessary to combine them into a single matrix. Create the matrix `features` which concatenates the above results along the appropriate axis."
   ]
  },
  {
   "cell_type": "code",
   "execution_count": 12,
   "metadata": {},
   "outputs": [
    {
     "data": {
      "text/plain": [
       "array([[-1.13039223e-03, -3.99304344e-01,  3.66919186e-01,\n",
       "         1.98407830e-01,  9.52986076e-02, -2.61966130e-02,\n",
       "         3.81589779e-01,  9.72354820e-02,  9.97722679e-01,\n",
       "         5.28289679e-01,  3.34248423e-01,  3.82986665e-01,\n",
       "        -1.21120294e+00, -7.73127225e-01, -4.75091168e-01,\n",
       "        -1.67995821e-01, -4.27421394e-01, -9.06828376e-01,\n",
       "         8.68067666e-01, -1.93406662e-01,  3.94824761e+00,\n",
       "         2.29108856e+00,  1.03530413e+00,  1.21796673e+00],\n",
       "       [-3.65288576e-01,  8.58688671e-01,  3.92178848e-01,\n",
       "         1.12323830e+00,  6.78715562e-01,  2.32439019e-01,\n",
       "         1.33805069e+00,  1.90795059e+00,  1.87631493e+00,\n",
       "         1.37870998e+00,  1.48185721e+00,  1.25064187e+00,\n",
       "        -3.86274898e+00, -7.73127225e-01, -2.88427107e+00,\n",
       "        -8.49453633e-02, -2.03051320e+00, -3.46948978e+00,\n",
       "         3.13951577e+00,  5.37904981e+00,  4.39405852e+00,\n",
       "         4.38878031e+00,  6.11389488e+00,  4.13158426e+00],\n",
       "       [-3.87090463e-01,  1.12738500e+00, -2.43820769e-01,\n",
       "         7.81011226e-01,  5.33514292e-01,  2.79819463e-01,\n",
       "         1.32967406e+00,  1.73748576e+00,  1.60776462e+00,\n",
       "         1.50707538e+00,  1.52995718e+00,  1.24373792e+00,\n",
       "        -3.86274898e+00, -2.56896040e-01, -2.88427107e+00,\n",
       "        -5.07423639e-01, -2.03051320e+00, -3.46948978e+00,\n",
       "         3.13951577e+00,  5.37904981e+00,  4.39405852e+00,\n",
       "         4.38878031e+00,  6.11389488e+00,  4.13158426e+00],\n",
       "       [-1.43874007e-01,  1.85462895e-01, -2.27747427e-01,\n",
       "        -6.85554687e-01, -7.03596757e-01, -2.00973184e-02,\n",
       "         4.52064205e-01,  2.41498525e-01,  4.38508591e-01,\n",
       "         5.99068468e-01,  6.92874657e-01,  5.54951688e-01,\n",
       "        -1.01932366e+00, -3.98463573e-01, -7.37189340e-01,\n",
       "        -2.09496171e+00, -2.32897115e+00, -1.25029248e+00,\n",
       "         9.75854299e-01,  6.47144741e-01,  1.46469153e+00,\n",
       "        -6.48127139e-02,  7.00452346e-01,  9.15096830e-01],\n",
       "       [-2.82047619e-02, -2.08111473e-01,  3.10833903e-01,\n",
       "        -7.98567134e-01, -5.81911723e-01, -9.59542418e-02,\n",
       "         5.72731389e-01,  5.29195257e-01,  6.75651599e-01,\n",
       "         6.62996446e-01,  9.62027253e-01,  6.16578785e-01,\n",
       "        -1.36148433e+00, -8.61024808e-01, -7.04889490e-01,\n",
       "        -2.09496171e+00, -2.32897115e+00, -1.41065827e+00,\n",
       "         9.75854299e-01,  6.47144741e-01,  1.52217163e+00,\n",
       "         4.77866709e-01,  1.11819370e+00,  9.84820998e-01],\n",
       "       [ 9.39779062e-02, -5.17670628e-01,  2.18361921e-01,\n",
       "        -1.33036380e-01,  8.94036208e-02,  4.48628722e-02,\n",
       "         4.75052313e-01,  2.05448802e-01,  6.30733078e-01,\n",
       "         5.53343982e-01,  6.28983371e-01,  4.31321039e-01,\n",
       "        -1.36148433e+00, -8.61024808e-01, -5.18883830e-01,\n",
       "        -1.63984487e+00, -2.08372603e+00, -1.41065827e+00,\n",
       "         8.88594209e-01, -2.17895480e-01,  1.52217163e+00,\n",
       "         4.94708988e-01,  1.11819370e+00,  9.84820998e-01],\n",
       "       [ 1.76872087e-01, -3.46305343e-01, -2.68500824e-01,\n",
       "         1.43440147e-01,  1.32392621e-01, -5.00608667e-02,\n",
       "         2.81088567e-01,  1.08991940e-01,  2.58480213e-01,\n",
       "         2.06898423e-01,  2.22249377e-01,  2.39579040e-01,\n",
       "        -5.58577570e-01, -5.61294659e-01, -5.55213998e-01,\n",
       "        -2.95763816e-01, -2.96184564e-01, -5.88389446e-01,\n",
       "         8.24912608e-01, -1.59178966e-01,  3.76130527e-01,\n",
       "         4.94708988e-01,  6.97582662e-01,  3.83245262e-01],\n",
       "       [ 1.25331417e-01, -3.27980549e-01, -2.29105626e-01,\n",
       "        -1.94390939e-01,  1.93269564e-01, -5.38469048e-02,\n",
       "         3.02194132e-01,  9.72118777e-02,  2.60300522e-01,\n",
       "         3.35867185e-01,  2.14234157e-01,  2.88759348e-01,\n",
       "        -5.58577570e-01, -5.61294659e-01, -6.37816730e-01,\n",
       "        -6.74886308e-01, -2.33448417e-01, -5.88389446e-01,\n",
       "         8.32362355e-01, -1.59178966e-01,  3.76130527e-01,\n",
       "         3.79597622e-01,  6.93931667e-01,  5.33620598e-01],\n",
       "       [-6.39234361e-01, -6.48474542e-01,  5.31757464e-01,\n",
       "         1.30648912e-01,  2.81467413e-01,  2.86870034e-01,\n",
       "         1.60788341e+00,  4.70451133e-01,  1.15207996e+00,\n",
       "         9.83650276e-01,  1.12370509e+00,  1.01312003e+00,\n",
       "        -5.67320848e+00, -1.79624757e+00, -6.37816730e-01,\n",
       "        -6.74886308e-01, -2.34927643e+00, -1.17053553e+00,\n",
       "         8.61611713e-01,  9.42541308e-02,  3.48608125e+00,\n",
       "         2.70252749e+00,  4.35107654e+00,  4.08146939e+00],\n",
       "       [ 1.50960402e-01,  4.52745793e-01,  5.13639588e-01,\n",
       "         9.20163719e-01, -6.77131228e-03,  6.98407892e-01,\n",
       "         2.29294684e+00,  1.69499713e+00,  1.48169299e+00,\n",
       "         1.08109180e+00,  1.34218632e+00,  1.59722452e+00,\n",
       "        -5.67320848e+00, -1.79624757e+00, -2.37925987e+00,\n",
       "        -3.68870369e-01, -3.14876616e+00, -1.98921468e+00,\n",
       "         3.96399671e+00,  3.94483476e+00,  3.48608125e+00,\n",
       "         2.74400934e+00,  4.35107654e+00,  4.24774787e+00],\n",
       "       [ 9.83093960e-01,  1.37603527e+00, -2.60747574e-01,\n",
       "         1.63301654e-01, -2.73742484e-01,  2.01678407e-01,\n",
       "         1.31440829e+00,  1.00603243e+00,  9.71571571e-01,\n",
       "         1.28920778e+00,  1.16608484e+00,  1.61961813e+00,\n",
       "        -1.41521536e+00,  2.44186973e-01, -2.37925987e+00,\n",
       "        -2.06243789e+00, -3.14876616e+00, -4.01830677e+00,\n",
       "         3.96399671e+00,  3.94483476e+00,  2.57637632e+00,\n",
       "         2.74400934e+00,  1.94881330e+00,  4.24774787e+00],\n",
       "       [-5.86806287e-01,  1.60002433e-01,  1.96679951e-01,\n",
       "        -1.10971828e+00, -4.99077748e-01, -8.93744232e-01,\n",
       "         1.40574658e+00,  8.14711211e-01,  6.32525858e-01,\n",
       "         7.67189635e-01,  1.84327216e+00,  1.66044803e+00,\n",
       "        -4.17905798e+00, -1.27852028e+00, -8.60227053e-01,\n",
       "        -2.66904006e+00, -6.62613747e+00, -4.32863133e+00,\n",
       "         1.49200965e+00,  1.47217052e+00,  1.64876346e+00,\n",
       "        -6.30214466e-03,  2.28959418e+00,  1.51810945e+00],\n",
       "       [-7.12341263e-01, -4.77602169e-01,  2.73484027e-01,\n",
       "        -7.27443634e-01, -3.41287600e-01, -5.19946303e-01,\n",
       "         1.22315717e+00,  3.60201806e-01,  5.24271518e-01,\n",
       "         8.77061374e-01,  1.65935655e+00,  1.62973129e+00,\n",
       "        -4.17905798e+00, -1.27852028e+00, -4.83111935e-01,\n",
       "        -2.66904006e+00, -6.62613747e+00, -4.32863133e+00,\n",
       "         9.09846787e-01,  7.63149038e-01,  1.64876346e+00,\n",
       "         1.49619987e-01,  2.28959418e+00,  1.51810945e+00],\n",
       "       [ 1.12267219e-01, -3.98632342e-01, -1.37768952e-01,\n",
       "        -1.24604613e-03,  3.56438456e-02,  1.78132121e-01,\n",
       "         2.39263604e-01,  5.38065781e-02,  1.52370246e-01,\n",
       "         8.40044413e-02,  4.05674583e-01,  2.17390652e-01,\n",
       "        -3.78735612e-01, -6.42518793e-01, -4.83111935e-01,\n",
       "        -3.60089684e-01, -6.36421511e-01, -2.36470031e-01,\n",
       "         6.07903985e-01, -2.97052502e-01,  2.85198761e-01,\n",
       "         1.49619987e-01,  1.35517168e+00,  6.55332642e-01],\n",
       "       [ 1.78898786e-01, -3.84945093e-01, -1.53840415e-01,\n",
       "        -2.12618054e-02, -6.78838900e-02,  3.18108951e-02,\n",
       "         1.66957570e-01,  2.74820075e-02,  5.24653659e-02,\n",
       "         2.82258957e-02,  1.41154931e-01,  1.27487857e-01,\n",
       "        -2.21543709e-01, -4.59564069e-01, -2.68176344e-01,\n",
       "        -7.02971768e-02, -6.36421511e-01, -2.36470031e-01,\n",
       "         6.07903985e-01, -2.97052502e-01, -3.71205681e-02,\n",
       "         4.97448306e-02,  2.88113227e-01,  3.94451311e-01],\n",
       "       [ 1.72666255e-01, -3.85294969e-01, -1.55325317e-01,\n",
       "        -2.64479972e-02, -4.39136251e-02,  5.21588221e-02,\n",
       "         1.06243380e-01,  1.80147535e-02,  3.49336502e-02,\n",
       "         1.73931994e-02,  3.92551352e-02,  7.81353741e-02,\n",
       "        -2.95006540e-02, -4.28238035e-01, -2.17540874e-01,\n",
       "        -7.02971768e-02, -1.40084263e-01, -9.95923624e-02,\n",
       "         4.39938915e-01, -3.48889195e-01, -3.71205681e-02,\n",
       "         6.70288505e-03,  4.58968544e-02,  2.29035071e-01],\n",
       "       [ 1.60785159e-01, -3.84131348e-01, -1.63094598e-01,\n",
       "        -2.57084517e-02, -2.80332251e-02,  9.03393035e-02,\n",
       "         7.78674324e-02,  1.55060928e-02,  2.61939937e-02,\n",
       "         1.53056522e-02,  2.75896854e-02,  5.19792494e-02,\n",
       "        -2.95006540e-02, -4.15067299e-01, -2.17540874e-01,\n",
       "        -5.59163381e-02, -9.49183544e-02, -3.63783413e-02,\n",
       "         3.19892509e-01, -3.48889195e-01, -1.06814581e-01,\n",
       "         6.70288505e-03,  2.59460050e-02,  2.29035071e-01],\n",
       "       [ 1.62675379e-01, -3.80463818e-01, -1.63928091e-01,\n",
       "        -3.02092369e-02, -2.24222967e-02,  9.51629495e-02,\n",
       "         4.59701528e-02,  9.32909112e-03,  2.06541464e-02,\n",
       "         1.26457268e-02,  1.90838354e-02,  3.56388106e-02,\n",
       "         3.32012646e-02, -4.03849230e-01, -1.99525004e-01,\n",
       "        -5.59163381e-02, -7.09688386e-02,  2.40287059e-02,\n",
       "         2.55830250e-01, -3.51056993e-01, -1.06814581e-01,\n",
       "         3.93451387e-03,  2.59460050e-02,  1.70280555e-01],\n",
       "       [ 2.16310056e-01, -3.80595290e-01, -4.74060847e-01,\n",
       "         1.48059653e-02,  1.11367277e-01, -1.92709606e-01,\n",
       "         3.06397264e-01,  6.12697257e-02,  8.47578594e-01,\n",
       "         1.55530787e-01,  2.65075647e-01,  7.00120945e-01,\n",
       "        -1.16813776e+00, -5.26987476e-01, -4.90347327e+00,\n",
       "        -1.05434020e+00, -1.45132447e-01, -2.77275147e+00,\n",
       "         9.57099949e-01, -9.83283211e-02, -5.33213562e-02,\n",
       "         2.80349522e-01,  1.28121963e+00,  2.10759163e-01],\n",
       "       [ 1.88466245e-01,  3.94062667e-01, -3.08126320e-01,\n",
       "        -7.26430088e-01,  5.40906310e-02, -5.80263424e-01,\n",
       "         8.07866066e-01,  1.37563319e+00,  1.76388359e+00,\n",
       "         1.12371660e+00,  1.13071842e+00,  1.28982487e+00,\n",
       "        -2.04578673e+00, -5.39065676e-01, -4.98898773e+00,\n",
       "        -2.87922518e+00, -3.45122929e+00, -3.69627066e+00,\n",
       "         1.93412135e+00,  4.57465739e+00,  2.99139549e+00,\n",
       "         2.80349522e-01,  3.29157984e+00,  2.33599373e+00],\n",
       "       [ 9.06053505e-02,  6.35372751e-01,  4.05544760e-01,\n",
       "        -3.20017596e-01,  3.51166353e-02, -2.18699680e-01,\n",
       "         8.67863297e-01,  1.27860641e+00,  1.54231645e+00,\n",
       "         1.48858151e+00,  1.16252441e+00,  1.26150052e+00,\n",
       "        -2.04578673e+00, -5.39065676e-01, -4.98898773e+00,\n",
       "        -2.87922518e+00, -3.45122929e+00, -3.69627066e+00,\n",
       "         1.93412135e+00,  4.57465739e+00,  2.99139549e+00,\n",
       "         1.82708939e+00,  3.29157984e+00,  2.33599373e+00],\n",
       "       [-2.82536710e-03,  1.65336510e-01, -2.73823387e-03,\n",
       "         1.05675850e+00,  2.44727292e-01,  3.97211339e-01,\n",
       "         6.43302431e-01,  3.09864580e-01,  8.59678167e-01,\n",
       "         5.79575127e-01,  5.50164700e-01,  5.44748140e-01,\n",
       "        -1.56083341e+00, -4.77755218e-01, -1.53666724e+00,\n",
       "        -1.45638825e-01, -7.19439911e-01, -1.03936009e+00,\n",
       "         1.36341683e+00,  7.32604334e-01,  1.25844717e+00,\n",
       "         1.91009956e+00,  1.40153131e+00,  1.74334360e+00]])"
      ]
     },
     "execution_count": 12,
     "metadata": {},
     "output_type": "execute_result"
    }
   ],
   "source": [
    "#// BEGIN_TODO [5ARB0_ActivityDetector_3_3] Concatenate features (10 points)\n",
    "\n",
    "features = np.concatenate((Y_mean, Y_std, Y_minimum, Y_maximum),1)\n",
    "features\n",
    "#// END_TODO [5ARB0_ActivityDetector_3_3]"
   ]
  },
  {
   "cell_type": "markdown",
   "metadata": {},
   "source": [
    "### End of exercise 3.3\n",
    "---\n",
    "---"
   ]
  },
  {
   "cell_type": "markdown",
   "metadata": {},
   "source": [
    "---\n",
    "---\n",
    "### Exercise 3.4: PCA and ICA (20 points)\n",
    "The current list of features is relatively large. For illustration purposes, we will reduce its dimensionality.\n",
    "Use the `sklearn` functions `PCA` and `FastICA` to create the variables `ica_object` and `pca_object` using 2 components each. Use these objects to fit and transform your `features` matrix and save the transformed set of features in the matrix `data_transformed_pca` and `data_transformed_ica`, respectively. Pick one of these transformed data sets that you think will work best for clustering and copy this one to the matrix `data_transformed`."
   ]
  },
  {
   "cell_type": "code",
   "execution_count": 13,
   "metadata": {},
   "outputs": [],
   "source": [
    "#// BEGIN_TODO [5ARB0_ActivityDetector_3_4] PCA and ICA (20 points)\n",
    "\n",
    "# ===== =====> Replace this line by your code. <===== ===== #\n",
    "\n",
    "#// END_TODO [5ARB0_ActivityDetector_3_4]"
   ]
  },
  {
   "cell_type": "code",
   "execution_count": 18,
   "metadata": {},
   "outputs": [
    {
     "name": "stdout",
     "output_type": "stream",
     "text": [
      "(22, 24)\n",
      "[-0.00113039 -0.36528858 -0.38709046]\n"
     ]
    },
    {
     "name": "stderr",
     "output_type": "stream",
     "text": [
      "d:\\Users\\lmd\\anaconda3\\envs\\environment\\lib\\site-packages\\sklearn\\decomposition\\_fastica.py:488: FutureWarning: From version 1.3 whiten='unit-variance' will be used by default.\n",
      "  warnings.warn(\n"
     ]
    },
    {
     "data": {
      "text/plain": [
       "(22, 2)"
      ]
     },
     "execution_count": 18,
     "metadata": {},
     "output_type": "execute_result"
    }
   ],
   "source": [
    "# from sklearn.decomposition import FastICA, PCA\n",
    "# # use 2 components\n",
    "# `ica_object` and `pca_object`\n",
    "# save the transformed set of features in the matrix `data_transformed_pca` and `data_transformed_ica`\n",
    "# Pick one of these transformed data sets that you think will work best for clustering and copy this one to the matrix `data_transformed`.\n",
    "print(features.shape)\n",
    "print(features[0:3,0])\n",
    "# features[:, 0] # column - mean\n",
    "ica_object = PCA(n_components=2)\n",
    "pca_object = FastICA(n_components=2)\n",
    "\n",
    "data_transformed_pca = ica_object.fit_transform(features)\n",
    "# print(ica_object.explained_variance_)\n",
    "data_transformed_ica = pca_object.fit_transform(features)\n",
    "\n",
    "data_transformed = data_transformed_ica\n",
    "data_transformed.shape\n",
    "# print(data_transformed_pca)\n",
    "# PCA.inverse_transform(data_transformed_pca)\n"
   ]
  },
  {
   "cell_type": "code",
   "execution_count": 15,
   "metadata": {},
   "outputs": [
    {
     "data": {
      "text/plain": [
       "(Text(0.5, 1.0, 'PCA'), Text(0.5, 1.0, 'ICA'))"
      ]
     },
     "execution_count": 15,
     "metadata": {},
     "output_type": "execute_result"
    },
    {
     "data": {
      "image/png": "[encoded data removed]",
      "text/plain": [
       "<Figure size 1500x500 with 2 Axes>"
      ]
     },
     "metadata": {},
     "output_type": "display_data"
    }
   ],
   "source": [
    "_, ax = plt.subplots(ncols=2, figsize=(15,5))\n",
    "ax[0].plot(data_transformed_pca)\n",
    "ax[1].plot(data_transformed_ica)\n",
    "ax[0].grid(True), ax[1].grid(True)\n",
    "ax[0].set_title(\"PCA\"), ax[1].set_title(\"ICA\")"
   ]
  },
  {
   "cell_type": "markdown",
   "metadata": {},
   "source": [
    "## Part 4: K-means algorithm\n",
    "In this part we will discuss unsupervised machine learning problems and describe how the K-means algorithm can be used to solve these.\n",
    "\n",
    "Unsupervised machine learning problems are problems in which we try to determine some particular structure within a data set. On the contrary, supervised machine learning problems require us to model some kind of input-output mapping. Unsupervised machine learning problems do not have a specified output which we would like to model. Instead we are interesting in making sense of the data in grouping this data, without knowing beforehand which and how many groups exist.\n",
    "\n",
    "The K-means algorithm can group $N$ data samples of dimension $D$ into $K$ groups or clusters. These clusters can each be characterized by their mean vector: the expected or average value of the points which are assigned to the cluster. The mean vector denoting the center of the $k^{th}$ cluster can be represented as the column vector ${\\bf{\\mu}}^{(k)} = [\\mu_1^{(k)},\\ \\mu_2^{(k)},\\ \\ldots, \\mu_D^{(k)}]^\\top$ and the $n^{th}$ data sample can be represented by the column vector ${\\bf{x}}^{(n)} = [x_1^{(n)},\\ x_2^{(n)},\\ \\ldots, x_D^{(n)}]^\\top$, where the superscript denotes the sample index.\n",
    "\n",
    "The K-means algorithm tries to minimize the (within-cluster) Euclidean squared distance\n",
    "$$J({\\bf{X}}, {\\bf{\\mu}}) = \\frac{1}{N}\\sum_{n=1}^N \\sum_{k=1}^K \\rho_k^{(n)} \\| {\\bf{x}}^{(n)} - {\\bf{\\mu}}^{(k)}\\|^2$$\n",
    "Here $\\rho_k^{(n)}$ is a so-called indicator function that is defined as \n",
    "$$ \\rho_k^{(n)} = \\begin{cases} 1 & \\text{if sample }{\\bf{x}}^{(n)}\\text{ is assigned to cluster }k \\\\ 0 & \\text{otherwise}\\end{cases}$$\n",
    "This indicator function equals $1$ when the corresponding data point is assigned to the corresponding cluster and $0$ otherwise. The cost function therefore represents the average squared distance with respect to the cluster that a point is assigned to.\n",
    "\n",
    "The algorithm is specified as follows:\n",
    "\n",
    "1. Initialize means ${\\bf{\\mu}}$.\n",
    "2. Assign data points to closest cluster mean (i.e. update $\\rho_k^{(n)}$).\n",
    "3. Calculate new cluster means as the average values of the points that are assigned to it (i.e. update ${\\bf{\\mu}}$).\n",
    "4. Calculate cost function $J({\\bf{X}}, {\\bf{\\mu}})$.\n",
    "5. If not converged, go back to 2 and repeat.\n",
    "\n",
    "Here we will describe the algorithm in words. First the centers of the clusters are initialized. This can be done arbitrarily, but often the centers are set to random (but distinct) samples of the data set.\n",
    "Once the means are set, we assign each data sample to the cluster that is closest to it. In order to do so, we calculate the Euclidean squared distance between a point and all the clusters and find the cluster that is closest to it. We repeat this for all points and we therefore completely specify $\\rho_k^{(n)}$. Once all points have been assigned to a cluster, we look up all points corresponding to a certain cluster and we average these to calculate the new cluster center. We update all cluster means. Then we evaluate the current fit of the clusters on the data by evaluate the cost function. If we still see a significant improvement in the cost function, we repeat updating the assignments and cluster centers and if the cost function seems to have converged, we stop iterating.\n",
    "\n",
    "In this part of the assignment you will implement the K-means algorithm from scratch, starting with the initialization of the cluster means.\n"
   ]
  },
  {
   "cell_type": "markdown",
   "metadata": {},
   "source": [
    "---\n",
    "---\n",
    "### Exercise 4.1: Initializing cluster centers (10 points) \n",
    "Consider the function `X = ex4_generate_data()` which generates a matrix ${\\bf{X}}$ of shape (N x D), representing the vertical concatenation of $N$ transposed data vectors of dimension $D$. Create a function `means = initialize_means(X, K)` that accepts the data set ${\\bf{X}}$  and number of clusters $K$ as input and returns a matrix of shape (K x D), representing the vertical concatenation of $K$ transposed mean vectors of dimension $D$. These means should be initialized such that they coincide with *random* samples from the data set, which are always *distinct*. In other words, the means should equal a random subset of the availabe data set, where no means are equal. Also keep in mind that the number of clusters is variable in this function."
   ]
  },
  {
   "cell_type": "code",
   "execution_count": 16,
   "metadata": {},
   "outputs": [],
   "source": [
    "#// BEGIN_TODO [5ARB0_ActivityDetector_4_1] Complete the function initialize_means(X, K) (10 points)\n",
    "\n",
    "# ===== =====> Replace this line by your code. <===== ===== #\n",
    "\n",
    "#// END_TODO [5ARB0_ActivityDetector_4_1]"
   ]
  },
  {
   "cell_type": "code",
   "execution_count": 26,
   "metadata": {},
   "outputs": [
    {
     "ename": "AttributeError",
     "evalue": "module 'numpy.random' has no attribute 'rank'",
     "output_type": "error",
     "traceback": [
      "\u001b[1;31m---------------------------------------------------------------------------\u001b[0m",
      "\u001b[1;31mAttributeError\u001b[0m                            Traceback (most recent call last)",
      "\u001b[1;32mc:\\Users\\lmd\\Desktop\\lmd7\\5ARB0_1_1\\activitydetector-template.ipynb Cell 40\u001b[0m in \u001b[0;36m<cell line: 1>\u001b[1;34m()\u001b[0m\n\u001b[1;32m----> <a href='vscode-notebook-cell:/c%3A/Users/lmd/Desktop/lmd7/5ARB0_1_1/activitydetector-template.ipynb#Y220sZmlsZQ%3D%3D?line=0'>1</a>\u001b[0m np\u001b[39m.\u001b[39;49mrandom\u001b[39m.\u001b[39;49mrank(K,\u001b[39m1\u001b[39m)\n",
      "\u001b[1;31mAttributeError\u001b[0m: module 'numpy.random' has no attribute 'rank'"
     ]
    }
   ],
   "source": [
    "np.random.rank(K,1)"
   ]
  },
  {
   "cell_type": "code",
   "execution_count": 38,
   "metadata": {},
   "outputs": [
    {
     "name": "stdout",
     "output_type": "stream",
     "text": [
      "0\n",
      "1\n"
     ]
    }
   ],
   "source": [
    "X = ex4_generate_data()\n",
    "# print(range(2))\n",
    "for i in range(2):\n",
    "    print(i)"
   ]
  },
  {
   "cell_type": "code",
   "execution_count": 48,
   "metadata": {},
   "outputs": [],
   "source": [
    "def initialize_means(X, K):\n",
    "    D = X.shape[1]\n",
    "    Cluster_Centers = np.mat(np.zeros((K,D)))\n",
    "    for i in range(D):\n",
    "        scale = float(max(np.mat(X)[:,i]) - min(np.mat(X)[:,i]))\n",
    "        Cluster_Centers[:,i] = min(np.mat(X)[:,i]) + scale*np.random.rand(K,1)\n",
    "    Cluster_Centers = np.array(Cluster_Centers)\n",
    "    return Cluster_Centers"
   ]
  },
  {
   "cell_type": "code",
   "execution_count": 49,
   "metadata": {},
   "outputs": [
    {
     "name": "stdout",
     "output_type": "stream",
     "text": [
      "(3, 2)\n"
     ]
    },
    {
     "data": {
      "image/png": "[encoded data removed]",
      "text/plain": [
       "<Figure size 640x480 with 1 Axes>"
      ]
     },
     "metadata": {},
     "output_type": "display_data"
    }
   ],
   "source": [
    "# generate data\n",
    "X = ex4_generate_data()\n",
    "\n",
    "# initialize means\n",
    "means = initialize_means(X, 3)\n",
    "print(means.shape)\n",
    "\n",
    "\n",
    "# plot data\n",
    "plt.figure()\n",
    "plt.scatter(X[:,0], X[:,1], 10)\n",
    "plt.scatter(means[:,0], means[:,1], c=\"red\", marker=\"x\")\n",
    "plt.grid()"
   ]
  },
  {
   "cell_type": "markdown",
   "metadata": {},
   "source": [
    "### End of exercise 4.1\n",
    "---\n",
    "---"
   ]
  },
  {
   "cell_type": "markdown",
   "metadata": {},
   "source": [
    "Now that the clusters have been initialized, it is time to assign points to the closest clusters."
   ]
  },
  {
   "cell_type": "markdown",
   "metadata": {},
   "source": [
    "---\n",
    "---\n",
    "### Exercise 4.2: Assign points to clusters (20 points)\n",
    "Again consider the function `X = ex4_generate_data()` which generates a matrix ${\\bf{X}}$ of shape (N x D), representing the vertical concatenation of $N$ transposed data vectors of dimension $D$. Create a function `rho = assign_data_to_clusters(X, means)` that accepts the data set ${\\bf{X}}$ and matrix of means ${\\bf{\\mu}}$ as input and returns a matrix of shape (N x K), which contains all indicator functions $\\rho_k^{(n)}$. This matrix should be a matrix of only ones and zeros and each row should sum to 1."
   ]
  },
  {
   "cell_type": "code",
   "execution_count": null,
   "metadata": {},
   "outputs": [],
   "source": [
    "#// BEGIN_TODO [5ARB0_ActivityDetector_4_2] Complete the function assign_data_to_clusters(X, means) (20 points)\n",
    "\n",
    "# ===== =====> Replace this line by your code. <===== ===== #\n",
    "\n",
    "#// END_TODO [5ARB0_ActivityDetector_4_2]"
   ]
  },
  {
   "cell_type": "code",
   "execution_count": null,
   "metadata": {},
   "outputs": [],
   "source": [
    "# generate data\n",
    "X = ex4_generate_data()\n",
    "\n",
    "# initialize means\n",
    "means = initialize_means(X, 3)\n",
    "\n",
    "# assign point to clusters\n",
    "rho = assign_data_to_clusters(X, means)\n",
    "\n",
    "# plot data\n",
    "plt.figure()\n",
    "plt.scatter(X[:,0], X[:,1], 10, c=np.argmax(rho, axis=1))\n",
    "plt.scatter(means[:,0], means[:,1], c=\"red\", marker=\"x\")\n",
    "plt.grid()"
   ]
  },
  {
   "cell_type": "markdown",
   "metadata": {},
   "source": [
    "### End of exercise 4.2\n",
    "---\n",
    "---"
   ]
  },
  {
   "cell_type": "markdown",
   "metadata": {},
   "source": [
    "The means have been initialized, the point have been assigned to a cluster. Now the cluster centers can be updated."
   ]
  },
  {
   "cell_type": "markdown",
   "metadata": {},
   "source": [
    "---\n",
    "---\n",
    "### Exercise 4.3: Update cluster centers (20 points)"
   ]
  },
  {
   "cell_type": "markdown",
   "metadata": {},
   "source": [
    "Again consider the function `X = ex4_generate_data()` which generates a matrix ${\\bf{X}}$ of shape (N x D), representing the vertical concatenation of $N$ data vectors of dimension $D$. Create a function `means = update_cluster_centers(X, rho)` that accepts the data set ${\\bf{X}}$ and matrix of indicators $\\rho$ as input and returns a matrix of shape (K x D), which contains the new cluster centers."
   ]
  },
  {
   "cell_type": "code",
   "execution_count": null,
   "metadata": {},
   "outputs": [],
   "source": [
    "#// BEGIN_TODO [5ARB0_ActivityDetector_4_3] Complete the function update_cluster_centers(X, rho) (20 points)\n",
    "\n",
    "# ===== =====> Replace this line by your code. <===== ===== #\n",
    "\n",
    "#// END_TODO [5ARB0_ActivityDetector_4_3]"
   ]
  },
  {
   "cell_type": "code",
   "execution_count": null,
   "metadata": {},
   "outputs": [],
   "source": [
    "# generate data\n",
    "X = ex4_generate_data()\n",
    "\n",
    "# initialize means\n",
    "means = initialize_means(X, 3)\n",
    "\n",
    "# assign point to clusters\n",
    "rho = assign_data_to_clusters(X, means)\n",
    "\n",
    "# update means\n",
    "means_new = update_cluster_centers(X, rho)\n",
    "\n",
    "# plot data\n",
    "plt.figure()\n",
    "plt.scatter(X[:,0], X[:,1], 10, c=np.argmax(rho, axis=1))\n",
    "plt.scatter(means[:,0], means[:,1], 50, c=\"red\", marker=\"x\")\n",
    "plt.scatter(means_new[:,0], means_new[:,1], 50, c=\"blue\", marker=\"x\")\n",
    "plt.grid()"
   ]
  },
  {
   "cell_type": "markdown",
   "metadata": {},
   "source": [
    "### End of exercise 4.3\n",
    "---\n",
    "---"
   ]
  },
  {
   "cell_type": "markdown",
   "metadata": {},
   "source": [
    "Almost there! Now it is just a matter of combining the previous functions for finalizing the K-means algorithms."
   ]
  },
  {
   "cell_type": "markdown",
   "metadata": {},
   "source": [
    "---\n",
    "---\n",
    "### Exercise 4.4: Implement K-means algorithm (40 points)\n",
    "\n",
    "First create a function `J = Kmeans_loss(X, means, rho)` that calculates the within-cluster Euclidean squared distance as defined above. Secondly create the final `means, rho, J = Kmeans(X, K)` function that combines all previous functions to create the K-means algorithm as specified in the the introduction of this part of the assignment. This function returns the final cluster centers, the indicator function and a history of the losses. Save the loss *after* each iteration and stop iterating when the difference in loss does no longer exceed 1e-10. The initial loss based on the randomly initialized means should not be returned."
   ]
  },
  {
   "cell_type": "code",
   "execution_count": null,
   "metadata": {},
   "outputs": [],
   "source": [
    "#// BEGIN_TODO [5ARB0_ActivityDetector_4_4a] Complete the Kmeans_loss(X, means, rho) function (20 points)\n",
    "\n",
    "# ===== =====> Replace this line by your code. <===== ===== #\n",
    "\n",
    "#// END_TODO [5ARB0_ActivityDetector_4_4a]"
   ]
  },
  {
   "cell_type": "code",
   "execution_count": null,
   "metadata": {},
   "outputs": [],
   "source": [
    "#// BEGIN_TODO [5ARB0_ActivityDetector_4_4b] Complete the Kmeans(X, K) function (20 points)\n",
    "\n",
    "# ===== =====> Replace this line by your code. <===== ===== #\n",
    "\n",
    "#// END_TODO [5ARB0_ActivityDetector_4_4b]"
   ]
  },
  {
   "cell_type": "code",
   "execution_count": null,
   "metadata": {},
   "outputs": [],
   "source": [
    "# generate data\n",
    "X = ex4_generate_data()\n",
    "\n",
    "# initialize means\n",
    "means, rho, J = Kmeans(X, 3)\n",
    "\n",
    "# plot data\n",
    "_,ax = plt.subplots(ncols=2, figsize=(15,5))\n",
    "ax[0].scatter(X[:,0], X[:,1], 10, c=np.argmax(rho, axis=1))\n",
    "ax[0].scatter(means[:,0], means[:,1], 50, c=\"red\", marker=\"x\")\n",
    "ax[1].plot(J)\n",
    "ax[0].grid(), ax[1].grid(), ax[1].set_ylabel(\"cost function\"), ax[1].set_xlabel(\"iteration\");"
   ]
  },
  {
   "cell_type": "markdown",
   "metadata": {},
   "source": [
    "### End of exercise 4.4\n",
    "---\n",
    "---"
   ]
  },
  {
   "cell_type": "markdown",
   "metadata": {},
   "source": [
    "---\n",
    "---\n",
    "### Exercise 4.5: Number of clusters (20 points)\n",
    "In the previous assignment the data had been generate from 3 clusters. In practice the number of clusters is often unknown. In this exercise we will see what happens when we add extra clusters. In this exercise, run your K-means algorithm on the previous data set for 2 up to and including 10 clusters and save the final value of the loss (i.e. the loss value when the algorithm has converged).\n",
    "\n",
    "Plot the final loss against the number of used clusters."
   ]
  },
  {
   "cell_type": "code",
   "execution_count": null,
   "metadata": {},
   "outputs": [],
   "source": [
    "# generate data\n",
    "X = ex4_generate_data()"
   ]
  },
  {
   "cell_type": "code",
   "execution_count": null,
   "metadata": {},
   "outputs": [],
   "source": [
    "#// BEGIN_TODO [5ARB0_ActivityDetector_4_5a] Plot the Kmeans loss against the number of clusters (10 points)\n",
    "\n",
    "# ===== =====> Replace this line by your code. <===== ===== #\n",
    "\n",
    "#// END_TODO [5ARB0_ActivityDetector_4_5a]"
   ]
  },
  {
   "cell_type": "markdown",
   "metadata": {},
   "source": [
    "Does the loss give a good impression of how many clusters can be found in the data set?\n",
    "\n",
    "1. Yes, the loss tells us how good the data is represented. As the loss decreases, the model becomes better at representing the data. Therefore the final loss provides a good indication how many clusters are desirable.\n",
    "2. Yes, if we have a very large number of clusters, the loss can be brought to zero, leading to a perfect representation of the data.\n",
    "3. No, the loss function only increases and does not take into account the complexity introduced by adding more clusters.\n",
    "4. All of the above answers are correct.\n",
    "5. None of the above answers are correct\n",
    "\n",
    "Answer this question by assigning the number corresponding to your answer to the variable `answer` (for example `answer = 6`) in the code cell below."
   ]
  },
  {
   "cell_type": "code",
   "execution_count": null,
   "metadata": {},
   "outputs": [],
   "source": [
    "#// BEGIN_TODO [5ARB0_ActivityDetector_4_5b] Finding an appropriate number of clusters (5 points)\n",
    "\n",
    "# ===== =====> Replace this line by your code. <===== ===== #\n",
    "\n",
    "#// END_TODO [5ARB0_ActivityDetector_4_5b]"
   ]
  },
  {
   "cell_type": "markdown",
   "metadata": {},
   "source": [
    "How can we find an appropriate number of clusters for representing some data set?\n",
    "\n",
    "1. We select the number of clusters where the loss function begins to increase.\n",
    "2. We can monitor the loss function and select the number of clusters for which it obtains its lowest value. The corresponding number of clusters is an appropriate number of clusters.\n",
    "3. We could add a penalty term for the number of clusters to the cost and then select the lowest value.\n",
    "4. All of the above answers are correct.\n",
    "5. None of the above answers are correct\n",
    "\n",
    "Answer this question by assigning the number corresponding to your answer to the variable `answer` (for example `answer = 6`) in the code cell below."
   ]
  },
  {
   "cell_type": "code",
   "execution_count": null,
   "metadata": {},
   "outputs": [],
   "source": [
    "#// BEGIN_TODO [5ARB0_ActivityDetector_4_5c] how can we find the number of clusters (5 points)\n",
    "\n",
    "# ===== =====> Replace this line by your code. <===== ===== #\n",
    "\n",
    "#// END_TODO [5ARB0_ActivityDetector_4_5c]"
   ]
  },
  {
   "cell_type": "markdown",
   "metadata": {},
   "source": [
    "### End of exercise 4.5\n",
    "---\n",
    "---"
   ]
  },
  {
   "cell_type": "markdown",
   "metadata": {},
   "source": [
    "---\n",
    "---\n",
    "### Exercise 4.6: Shortcoming of the K-means algorithm (20 points)\n",
    "Apply the Kmeans algorithm for the new data set generate by `X = ex46_generate_data()`. Visualise the data and come up with an appropriate number of clusters. Plot the data points in a scatter plot, plot the means as red crosses in the same plot and color the data point according to their assigned cluster."
   ]
  },
  {
   "cell_type": "code",
   "execution_count": null,
   "metadata": {},
   "outputs": [],
   "source": [
    "# generate data\n",
    "X = ex46_generate_data()"
   ]
  },
  {
   "cell_type": "code",
   "execution_count": null,
   "metadata": {},
   "outputs": [],
   "source": [
    "#// BEGIN_TODO [5ARB0_ActivityDetector_4_6a] Plot clusters of new data set (10 points)\n",
    "\n",
    "# ===== =====> Replace this line by your code. <===== ===== #\n",
    "\n",
    "#// END_TODO [5ARB0_ActivityDetector_4_6a]"
   ]
  },
  {
   "cell_type": "markdown",
   "metadata": {},
   "source": [
    "Why does the Kmeans algorithm perform not as good on this data set?\n",
    "\n",
    "1. The data is distributed in lines instead of circles.\n",
    "2. The clusters are overlapping.\n",
    "3. The clusters are rotated.\n",
    "4. All of the above answers are correct.\n",
    "5. None of the above answers are correct\n",
    "\n",
    "Answer this question by assigning the number corresponding to your answer to the variable `answer` (for example `answer = 6`) in the code cell below."
   ]
  },
  {
   "cell_type": "code",
   "execution_count": null,
   "metadata": {},
   "outputs": [],
   "source": [
    "#// BEGIN_TODO [5ARB0_ActivityDetector_4_6b] how can we find the number of clusters (10 points)\n",
    "\n",
    "# ===== =====> Replace this line by your code. <===== ===== #\n",
    "\n",
    "#// END_TODO [5ARB0_ActivityDetector_4_6b]"
   ]
  },
  {
   "cell_type": "markdown",
   "metadata": {},
   "source": [
    "### End of exercise 4.6\n",
    "---\n",
    "---"
   ]
  },
  {
   "cell_type": "markdown",
   "metadata": {},
   "source": [
    "## Part 5: Gaussian Mixture modeling\n",
    "The Kmeans algorithm is a very fast and simple algorithm that works well for many applications. However, because of its simplicity it is not suitable for all situations, such as the one described in exercise 1.6. In this part we present another methodology for clustering data, namely through Gaussian mixture modeling. In this approach we do not rely on a deterministic algorithm for determining the cluster means and assignments, but instead we model the data set by a probability density function.\n",
    "\n",
    "We will assume that the data set has been generated from a Gaussian mixture model, which is formally specified as\n",
    "$$ p({\\bf{x}}^{(n)}) = \\sum_{k=1}^K \\rho_k \\mathcal{N}({\\bf{x}}^{(n)} \\mid {\\bf{\\mu}}_k, \\Sigma_k),$$\n",
    "where a data sample ${\\bf{x}}^{(n)}$ is originating from a Gaussian mixture model with $K$ individual Gaussian distributions with means ${\\bf{\\mu}}_k$ and covariance matrices ${\\bf{\\Sigma}}_k$. The mean denotes the center or mode of the Gaussian distribution and the covariance matrix specifies the strech and tilt of the Gaussian distribution. In this model the mixing coefficients $\\rho_k$ specify how much each of the Gaussian distributions contributes in the model. Because the Gaussian mixture model is a probability density function, integrating over ${\\bf{x}}$ should always equal 1. Because the individual Gaussians already satisfy this requirement, the mixing coefficients are constrained by\n",
    "$$ \\sum_{k=1}^K \\rho_k = 1.$$\n",
    "To give some intuition on this model, we give a 1-dimensional example below. Here we model a data set by a mixture of 2 Gaussians. The individual *weighted* Gaussian distributions are colored in blue and the corresponding mixture model distribution is colored in red."
   ]
  },
  {
   "cell_type": "code",
   "execution_count": null,
   "metadata": {},
   "outputs": [],
   "source": [
    "ex5_plot_GMM_1D()"
   ]
  },
  {
   "cell_type": "markdown",
   "metadata": {},
   "source": [
    "During this part of the assignment you will implement the so-called Expectation-Maximization (EM) algorithm for learning the Gaussian mixture model. This algorithm consists of two step, the expectation step (E-step) and the maximization step (M-step). The exact details of the algorithm are beyond the scope of this assignment, but here we will present the update equations for these steps.\n",
    "\n",
    "The EM algorithm works as follows:\n",
    "\n",
    "1. Initialize the means ${\\bf{\\mu}}_k$, covariances $\\Sigma_k$ and mixing coefficients $\\rho_k$. Often the means are initialized using the Kmeans algorithm. The covariance matrices can be set to identity matrices and the mixing coefficients can be initialized to the fraction of points assigned to the cluster with Kmeans divided by the total number of samples.\n",
    "2. *Expectation step*: evaluate the responsibilities $\\gamma_{nk}$ using the current parameter values as \n",
    "$$ \\gamma_{nk} = \\frac{\\rho_k \\mathcal{N}({\\bf{x}}_n \\mid {\\bf{\\mu}}_k, \\Sigma_k)}{\\sum_{j=1}^K \\rho_j \\mathcal{N}({\\bf{x}}_n \\mid {\\bf{\\mu}}_j, \\Sigma_j)}$$\n",
    "3. *Maximization step*: re-estimate the parameters using the current responsibilities\n",
    "$$ {\\bf{\\mu}}_k^\\text{new} = \\frac{1}{N_k} \\sum_{n=1}^N \\gamma_{nk}{\\bf{x}}_n $$\n",
    "$$ \\Sigma_k^\\text{new} = \\frac{1}{N_k} \\sum_{n=1}^N \\gamma_{nk} ({\\bf{x}}_n - {\\bf{\\mu}}_k^\\text{new})({\\bf{x}}_n - {\\bf{\\mu}}_k^\\text{new})^\\top $$\n",
    "$$ \\rho_k = \\frac{N_k}{N} $$\n",
    "where $N$ denotes the number of samples and where\n",
    "$$ N_k = \\sum_{n=1}^N \\gamma_{nk}$$\n",
    "4. Evaluate the log-likelihood\n",
    "$$ \\ln p({\\bf{X}} \\mid {\\bf{\\mu}}, \\Sigma, {\\bf{\\rho}}) = \\sum_{n=1}^N \\ln \\left\\{ \\sum_{k=1}^K \\rho_k \\mathcal{N}({\\bf{x}}^{(n)} \\mid {\\bf{\\mu}}_k, \\Sigma_k)\\right\\}$$\n",
    "\n",
    "It is important to grasp what is going on in this algorithm. The responsibilities $\\gamma_{nk}$ are similar to the indicator functions from the Kmeans algorithm. However, where the Kmeans algorithm performs a hard clustering (each point can be assigned to only 1 cluster), the Gaussian mixture model allows for a soft clustering (each point can be modeled by both Gaussian distribution, but just to a different extent). The indicator function of the Kmeans algorithm was one-hot coded, meaning that a point was assigned to 1 cluster only. The responsibilities $\\gamma_{nk}$ specify how likely a data sample ${\\bf{x}}_n$ is to be generated from a cluster. With a Gaussian mixture model a point can therefore be assigned to different extents to multiple clusters. The expectation step calculates these responsibilities and the division in this expression makes sure that all rows sum op to 1.\n",
    "\n",
    "In the maximization step the parameters are updated. Here the contribution of each data sample towards the parameters depends on the corresponding responsibilities. This means that a point that is very likely to have originated from a certain cluster will have a high influence on the statistics of that cluster. The variable $N_k$ specifies how many points are located to a certain Gaussian distribution. Because this parameter is the summation over the individual responsibilities, $N_k$ is not forced to be an integer.\n",
    "\n",
    "The log-likelihood is a cost function which takes the variances and uncertainties in our model into account. It describes the probability of that data set being generated from a Gaussian mixture model. To prevent numerical instability we commonly use the log-likelihood instead of the normal likelihood.\n"
   ]
  },
  {
   "cell_type": "markdown",
   "metadata": {},
   "source": [
    "---\n",
    "---\n",
    "### Exercise 5.1: Initialize clusters (20 points)\n",
    "Consider the function from the previous part `X = ex46_generate_data()` which generates a matrix ${\\bf{X}}$ of shape (N x D), representing the vertical concatenation of $N$ transposed data vectors of dimension $D$. Create a function `means, covs, rho = initialize_GMM(X, K)` that accepts the data set ${\\bf{X}}$ as input and returns the following in this order:\n",
    "- `means`: a matrix of size (K x D) that contains the initial cluster means, as a vertical concatenation of the transposed mean vectors. These means should be initialized using the previously written K-means algorithm.\n",
    "- `covs`: a matrix of size (K x D x D) that contains the covariance matrices of the initial clusters. Each matrix `covs[k,:,:]` represents the covariance matrix of the $k^\\text{th}$ cluster. Initialize these covariance matrices as identity matrices.\n",
    "- `rho`: a vector of length K that contains the mixing coefficients as specified above. Initialize this vector based on the indicator function returned by the K-means algorithm."
   ]
  },
  {
   "cell_type": "code",
   "execution_count": null,
   "metadata": {},
   "outputs": [],
   "source": [
    "#// BEGIN_TODO [5ARB0_ActivityDetector_5_1] Complete the initialize_GMM(X, K) function (20 points)\n",
    "\n",
    "# ===== =====> Replace this line by your code. <===== ===== #\n",
    "\n",
    "#// END_TODO [5ARB0_ActivityDetector_5_1]"
   ]
  },
  {
   "cell_type": "code",
   "execution_count": null,
   "metadata": {},
   "outputs": [],
   "source": [
    "# fetch data\n",
    "X = ex46_generate_data()\n",
    "\n",
    "# initialize GMM\n",
    "means, covs, rho = initialize_GMM(X, 2)\n",
    "\n",
    "# plot GMM\n",
    "ex5_plot_GMM(X, means, covs, rho)"
   ]
  },
  {
   "cell_type": "markdown",
   "metadata": {},
   "source": [
    "### End of exercise 5.1\n",
    "---\n",
    "---"
   ]
  },
  {
   "cell_type": "markdown",
   "metadata": {},
   "source": [
    "---\n",
    "---\n",
    "### Exercise 5.2: Expectation step (30 points)\n",
    "Create a function `gamma = expectation_step(X, means, covs, rho)` that accepts the data set, means, covariances and mixing coefficients with dimensions specified above. This function should perform the expectation step and should return the calculated responsibilities as defined above as a matrix of size (N x K) where each row corresponds to the assignment fraction of a sample amongst the different clusters. Make sure this matrix is properly normalized such that the elements in each row add up to 1. Use the `multivariate_normal` function that has been imported from `scipy.stats` at the beginning of this notebook."
   ]
  },
  {
   "cell_type": "code",
   "execution_count": null,
   "metadata": {},
   "outputs": [],
   "source": [
    "#// BEGIN_TODO [5ARB0_ActivityDetector_5_2] Complete the expectation_step(X, means, covs, rho) function (30 points)\n",
    "\n",
    "# ===== =====> Replace this line by your code. <===== ===== #\n",
    "\n",
    "#// END_TODO [5ARB0_ActivityDetector_5_2]"
   ]
  },
  {
   "cell_type": "code",
   "execution_count": null,
   "metadata": {},
   "outputs": [],
   "source": [
    "gamma = expectation_step(X, means, covs, rho)"
   ]
  },
  {
   "cell_type": "markdown",
   "metadata": {},
   "source": [
    "### End of exercise 5.2\n",
    "---\n",
    "---"
   ]
  },
  {
   "cell_type": "markdown",
   "metadata": {},
   "source": [
    "---\n",
    "---\n",
    "### Exercise 5.3: Maximization step (40 points)\n",
    "Create a function `means, covs, rho = maximization_step(X, gamma)` that accepts the data set and responsibilities with dimensions specified above. This function should perform the maximization step and should return the new means, covariances and mixing coefficients with dimensions as specified above."
   ]
  },
  {
   "cell_type": "code",
   "execution_count": null,
   "metadata": {},
   "outputs": [],
   "source": [
    "#// BEGIN_TODO [5ARB0_ActivityDetector_5_3] Complete the maximization_step(X, gamma) function (40 points)\n",
    "\n",
    "# ===== =====> Replace this line by your code. <===== ===== #\n",
    "\n",
    "#// END_TODO [5ARB0_ActivityDetector_5_3]"
   ]
  },
  {
   "cell_type": "code",
   "execution_count": null,
   "metadata": {},
   "outputs": [],
   "source": [
    "# maximization step\n",
    "means, covs, rho = maximization_step(X, gamma)\n",
    "\n",
    "# plot GMM\n",
    "ex5_plot_GMM(X, means, covs, rho)"
   ]
  },
  {
   "cell_type": "markdown",
   "metadata": {},
   "source": [
    "### End of exercise 5.3\n",
    "---\n",
    "---"
   ]
  },
  {
   "cell_type": "markdown",
   "metadata": {},
   "source": [
    "---\n",
    "---\n",
    "### Exercise 5.4: Log-likelihood calculation (20 points)\n",
    "Create a function `J = loglikelihood(X, means, covs, rho)` that accepts the data set, means, covariance matrices and mixing coefficients with dimensions specified above. This function should calculate and return the log-likelihood of the data under the specified Gaussian mixture model. Use the definition as specified in the beginning of Part 2."
   ]
  },
  {
   "cell_type": "code",
   "execution_count": null,
   "metadata": {},
   "outputs": [],
   "source": [
    "#// BEGIN_TODO [5ARB0_ActivityDetector_5_4] Complete the loglikelihood(X, means, covs, rho) function (20 points)\n",
    "\n",
    "# ===== =====> Replace this line by your code. <===== ===== #\n",
    "\n",
    "#// END_TODO [5ARB0_ActivityDetector_5_4]"
   ]
  },
  {
   "cell_type": "markdown",
   "metadata": {},
   "source": [
    "### End of exercise 5.4\n",
    "---\n",
    "---"
   ]
  },
  {
   "cell_type": "markdown",
   "metadata": {},
   "source": [
    "---\n",
    "---\n",
    "### Exercise 5.5: Gaussian mixture modeling (30 points)\n",
    "Now that all the subfunctions have been defined it is time to tie them together and to form a function which does the Gaussian mixture modelling. Create a function `means, covs, rho, gamma, J = GMM_modeling(X, K, nr_iterations)` that does the following:\n",
    "\n",
    "1. Initialize the parameters of the Gaussian mixture model.\n",
    "2. Performs `nr_iterations` iterations of the following:\n",
    "    1. Perform the expectation step.\n",
    "    2. Perform the maximization step.\n",
    "    3. Calculate the log-likelihood.\n",
    "3. returns the parameters and a vector of saved values of the log-likelihood.\n",
    "\n",
    "The function should return all the parameters of the trained Gaussian mixture model, containing the final means, covariance matrices, mixing coefficients, responsibilities and a vector containing all calculated values of the log-likelihood."
   ]
  },
  {
   "cell_type": "code",
   "execution_count": null,
   "metadata": {},
   "outputs": [],
   "source": [
    "#// BEGIN_TODO [5ARB0_ActivityDetector_5_5] Complete the GMM_modeling(X, K, nr_iterations) function (30 points)\n",
    "\n",
    "# ===== =====> Replace this line by your code. <===== ===== #\n",
    "\n",
    "#// END_TODO [5ARB0_ActivityDetector_5_5]"
   ]
  },
  {
   "cell_type": "code",
   "execution_count": null,
   "metadata": {},
   "outputs": [],
   "source": [
    "# train GMM\n",
    "means, covs, rho, gamma, J = GMM_modeling(X, 2, 10)\n",
    "\n",
    "# plot GMM\n",
    "ex5_plot_GMM(X, means, covs, rho)"
   ]
  },
  {
   "cell_type": "code",
   "execution_count": null,
   "metadata": {},
   "outputs": [],
   "source": [
    "plt.figure()\n",
    "plt.plot(J)\n",
    "plt.grid(), plt.xlabel(\"iteration\"), plt.ylabel(\"log-likelihood\");"
   ]
  },
  {
   "cell_type": "markdown",
   "metadata": {},
   "source": [
    "### End of exercise 5.5\n",
    "---\n",
    "---"
   ]
  },
  {
   "cell_type": "markdown",
   "metadata": {},
   "source": [
    "## Part 6: Activity detector\n",
    "In this part of the assignment we will use the above methods to create a simple activity detector."
   ]
  },
  {
   "cell_type": "markdown",
   "metadata": {},
   "source": [
    "During this part you need to make use of the `sklearn` (Scikit learn) package and more specifically the `KMeans` and `GMM` functions. This package offers some benefits over the handwritten clustering functions. These algorithms are numerically stable and better optimized to run on large data sets."
   ]
  },
  {
   "cell_type": "markdown",
   "metadata": {},
   "source": [
    "---\n",
    "---\n",
    "### Exercise 6.1: Kmeans & GMM activity detector (30 points)\n",
    "Run the Kmeans algorithm and train the Gaussian mixture model (with diagonal and full covariance matrices) on the transformed data set `data_transformed`. Use the corresponding `sklearn` functions for this purpose and name the trained objects `kmeans`, `gmm_diag`, `gmm_full`, respectively. For both approaches use an appropriate number of clusters or mixture components."
   ]
  },
  {
   "cell_type": "code",
   "execution_count": null,
   "metadata": {},
   "outputs": [],
   "source": [
    "from sklearn.cluster import KMeans\n",
    "from sklearn.mixture import GaussianMixture\n",
    "\n",
    "# set number of clusters\n",
    "K = 3"
   ]
  },
  {
   "cell_type": "code",
   "execution_count": null,
   "metadata": {},
   "outputs": [],
   "source": [
    "#// BEGIN_TODO [5ARB0_ActivityDetector_6_1] Kmeans and GMM clustering using Sklearn (30 points)\n",
    "\n",
    "# ===== =====> Replace this line by your code. <===== ===== #\n",
    "\n",
    "#// END_TODO [5ARB0_ActivityDetector_6_1]"
   ]
  },
  {
   "cell_type": "code",
   "execution_count": null,
   "metadata": {},
   "outputs": [],
   "source": [
    "_, ax = plt.subplots(ncols=3, figsize=(20,5))\n",
    "\n",
    "# plot for kmeans\n",
    "ax[0].scatter(data_transformed[:,0], data_transformed[:,1], c=kmeans.predict(data_transformed), alpha=0.1)\n",
    "ax[0].scatter(kmeans.cluster_centers_[:,0], kmeans.cluster_centers_[:,1], color=\"red\", marker=\"x\")\n",
    "ax[0].set_title(\"Kmeans\")\n",
    "\n",
    "# plot for GMM (diagonal)\n",
    "ax[1].scatter(data_transformed[:,0], data_transformed[:,1], c=gmm_diag.predict(data_transformed), alpha=0.1)\n",
    "plot_gmm(ax[1], gmm_diag)\n",
    "ax[1].set_title(\"Gaussian Mixture Model (diagonal)\")\n",
    "\n",
    "# plot for GMM (full)\n",
    "ax[2].scatter(data_transformed[:,0], data_transformed[:,1], c=gmm_full.predict(data_transformed), alpha=0.1)\n",
    "plot_gmm(ax[2], gmm_full)\n",
    "ax[2].set_title(\"Gaussian Mixture Model (full)\")"
   ]
  },
  {
   "cell_type": "markdown",
   "metadata": {},
   "source": [
    "### End of exercise 6.1\n",
    "---\n",
    "---"
   ]
  },
  {
   "cell_type": "markdown",
   "metadata": {},
   "source": [
    "---\n",
    "---\n",
    "### Exercise 6.2: Activity classification (20 points)\n",
    "Use the trained full Gaussian Mixture model to classify the segments `data_transformed`. Save the classification of each of the segments in the `classification` variable. Plot the classification you obtain."
   ]
  },
  {
   "cell_type": "code",
   "execution_count": null,
   "metadata": {},
   "outputs": [],
   "source": [
    "#// BEGIN_TODO [5ARB0_ActivityDetector_6_2] Classify activities (20 points)\n",
    "\n",
    "# ===== =====> Replace this line by your code. <===== ===== #\n",
    "\n",
    "#// END_TODO [5ARB0_ActivityDetector_6_2]"
   ]
  },
  {
   "cell_type": "markdown",
   "metadata": {},
   "source": [
    "### End of exercise 6.2\n",
    "---\n",
    "---"
   ]
  },
  {
   "cell_type": "markdown",
   "metadata": {},
   "source": [
    "---\n",
    "---\n",
    "### Exercise 6.3: Classification improvements (20 points)\n",
    "You might have noticed that the obtained classification performance is not as good as you might have expected.\n",
    "\n",
    "What stage in the processing pipeline would you need to change in order to achieve the largest performance gain?\n",
    "\n",
    "1. The data preprocessing.\n",
    "2. The feature extraction.\n",
    "3. The clustering.\n",
    "\n",
    "Answer this question by assigning the number corresponding to your answer to the variable `answer` (for example `answer = 6`) in the code cell below."
   ]
  },
  {
   "cell_type": "code",
   "execution_count": null,
   "metadata": {},
   "outputs": [],
   "source": [
    "#// BEGIN_TODO [5ARB0_ActivityDetector_6_3a] How can we improve the activity detector? (10 points)\n",
    "\n",
    "# ===== =====> Replace this line by your code. <===== ===== #\n",
    "\n",
    "#// END_TODO [5ARB0_ActivityDetector_6_3a]"
   ]
  },
  {
   "cell_type": "markdown",
   "metadata": {},
   "source": [
    "Ofcourse, you won't be the first one tackling this problem. On Kaggle (a machine learning competition website) a competition has been opened for this purpose: https://www.kaggle.com/datasets/uciml/human-activity-recognition-with-smartphones. If you scroll through the submitted solutions, you will see a lot of approaches who use neural networks for classifying the activities based on the recorded data. Why is it difficult with the data that you have recorded to create a simple neural network classifier?\n",
    "\n",
    "1. The recorded data is not labeled.\n",
    "2. The number of features from the recording are a lot smaller than the data set used on Kaggle.\n",
    "3. The data collected by the phone is not informative enough.\n",
    "4. All of the above answers are correct.\n",
    "5. None of the above answers are correct.\n",
    "\n",
    "Answer this question by assigning the number corresponding to your answer to the variable `answer` (for example `answer = 6`) in the code cell below."
   ]
  },
  {
   "cell_type": "code",
   "execution_count": null,
   "metadata": {},
   "outputs": [],
   "source": [
    "#// BEGIN_TODO [5ARB0_ActivityDetector_6_3b] How can we improve the activity detector? (10 points)\n",
    "\n",
    "# ===== =====> Replace this line by your code. <===== ===== #\n",
    "\n",
    "#// END_TODO [5ARB0_ActivityDetector_6_3b]"
   ]
  },
  {
   "cell_type": "markdown",
   "metadata": {},
   "source": [
    "### End of exercise 6.3\n",
    "---\n",
    "---"
   ]
  },
  {
   "cell_type": "markdown",
   "metadata": {},
   "source": [
    ">   Make sure to restart this notebook and to rerun all cells before submission to check whether all code runs properly."
   ]
  }
 ],
 "metadata": {
  "kernelspec": {
   "display_name": "Python 3.8.13",
   "language": "python",
   "name": "python3"
  },
  "language_info": {
   "codemirror_mode": {
    "name": "ipython",
    "version": 3
   },
   "file_extension": ".py",
   "mimetype": "text/x-python",
   "name": "python",
   "nbconvert_exporter": "python",
   "pygments_lexer": "ipython3",
   "version": "3.8.13"
  },
  "vscode": {
   "interpreter": {
    "hash": "5db101544f86d15aef89da05c536f3cc9d0a1319f2b19940b421f03ea3ea1c6b"
   }
  }
 },
 "nbformat": 4,
 "nbformat_minor": 4
}
