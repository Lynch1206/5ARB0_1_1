{
 "cells": [
  {
   "cell_type": "markdown",
   "metadata": {},
   "source": [
    "# Import package"
   ]
  },
  {
   "cell_type": "code",
   "execution_count": 254,
   "metadata": {},
   "outputs": [],
   "source": [
    "# this cell imports the libraries or packages that you can use during this assignment\n",
    "# you are not allowed to import additional libraries or packages\n",
    "from helpers import *\n",
    "import matplotlib.pyplot as plt\n",
    "import numpy as np\n",
    "import pandas as pd\n",
    "from scipy.stats import multivariate_normal\n",
    "from sklearn.decomposition import FastICA, PCA"
   ]
  },
  {
   "cell_type": "markdown",
   "metadata": {},
   "source": [
    "# Function load"
   ]
  },
  {
   "cell_type": "code",
   "execution_count": 255,
   "metadata": {},
   "outputs": [],
   "source": [
    "def find_csv_filenames(path_to_dir, suffix=\".csv\"):\n",
    "    \"\"\"\n",
    "    find all csv files in the folder directory route.\\\\\n",
    "    `path_to_dir` is the route directory, using os.getcwd() for the current folder as an example.\\\\\n",
    "    Return a list.\n",
    "    \"\"\"\n",
    "    filenames = os.listdir(path_to_dir)\n",
    "    return [filename for filename in filenames if filename.endswith(suffix)]\n",
    "\n",
    "def readCSVfiles(filenames,Path, input_files):\n",
    "    \"\"\"\n",
    "    # read collected data with csv files\n",
    "    ----------------------------------------------------------------\n",
    "    filenames - from `find_csv_filenames` - a list \\\\\n",
    "    Path - the absolute path \\\\\n",
    "    input_files - the list with desired data files. \\\\\n",
    "    # return dictionary data\n",
    "    - df = {'file1 name': dataframe1, 'file2 name': dataframe2...}\n",
    "    -----------\n",
    "    `if filenames[x] in input_files:  # check if file is needed\n",
    "            print(filenames[x], 'is in the list')\n",
    "\t# create dictionary with filenames as keys and drop the time column\n",
    "\t# if null in the dataframe\n",
    "            df[filenames[x]] = pd.read_csv(filenames[x]).drop('time', axis=1)\n",
    "            if df[filenames[x]].isnull().values.any():  \n",
    "                print('Find empty')\n",
    "                df[filenames[x]] = df[filenames[x]].dropna()\n",
    "            else:\n",
    "                print('no null space in ', filenames[x])`\n",
    "    \"\"\"\n",
    "    df = {}\n",
    "    x = 0\n",
    "    if input_files in filenames:\n",
    "        print('missing file.')\n",
    "    for filenames[x] in filenames:\n",
    "        if filenames[x] in input_files:  # check if file is needed\n",
    "            print(filenames[x], 'is in the list')\n",
    "            # create dictionary with filenames as keys and drop the time column\n",
    "            df[filenames[x]] = pd.read_csv(Path+'/'+filenames[x]).drop('time', axis=1)\n",
    "            if df[filenames[x]].isnull().values.any():  # if null in the dataframe\n",
    "                print('Find empty null space')\n",
    "                df[filenames[x]] = df[filenames[x]].dropna()\n",
    "            else:\n",
    "                print('no null space in ', filenames[x])\n",
    "        else:\n",
    "            pass\n",
    "            #print('file not in the list')\n",
    "        x = x+1\n",
    "\n",
    "    \n",
    "    return(df)\n",
    "def Check_filesNo(folder_name,Infiles,current=True):\n",
    "    \"\"\"\n",
    "    # `Check_filesNo(folder_list,Infiles)`\n",
    "    `folder_name`: Manual keyin. Data folder. \\\\\n",
    "    `Infiles`: Interested files list.\n",
    "    `current`: `True`(default)- check current folder files. `False`- check manually keyin `folder_name` directory.\n",
    "    ----------------------------------------------------------------\n",
    "    Check all Infiles in folder_list, if match, will return `Folder route`\n",
    "    \"\"\"\n",
    "    if current ==True:\n",
    "        return (os.getcwd())\n",
    "    else:\n",
    "        if current == False:\n",
    "            if os.path.isdir(str(folder_name)):\n",
    "                PATH = os.path.join(os.getcwd(),str(folder_name)) # use os.getcwd find current route, and joinned with interested folder name.\n",
    "                folder_list = [x[0] for x in os.walk(PATH)]       # list all folder under the folder_name.\n",
    "\n",
    "                # check if recorded files sufficient.\n",
    "                for j in range(len(folder_list)):\n",
    "                    print('Read path:', folder_list[j], '\\n')     # check read file route.\n",
    "                    filename = find_csv_filenames(folder_list[j]) # list of all files with csv file\n",
    "                    sub_set = set(filename)\n",
    "                    if set(Infiles).issubset(set(filename)):\n",
    "                        print('Match folder,',j,folder_list[j],'\\n') \n",
    "                        Folder_route = folder_list[j]\n",
    "                    else:\n",
    "                        print(folder_list[j],'missing.')        # if found missing file under folder, return missing warning.\n",
    "\n",
    "            else:\n",
    "                pass\n",
    "        return(Folder_route) # string of folder route.        \n",
    "\n",
    "        \n",
    "\n",
    "\n",
    "    #return(Folder_route) # string of folder route.\n"
   ]
  },
  {
   "cell_type": "markdown",
   "metadata": {},
   "source": [
    "## Path"
   ]
  },
  {
   "cell_type": "code",
   "execution_count": 262,
   "metadata": {},
   "outputs": [
    {
     "name": "stdout",
     "output_type": "stream",
     "text": [
      "Read path: /Users/lynch_mini/Documents/SML/5ARB0_1_1/data \n",
      "\n",
      "/Users/lynch_mini/Documents/SML/5ARB0_1_1/data missing.\n",
      "Read path: /Users/lynch_mini/Documents/SML/5ARB0_1_1/data/2022-09-09_13-14-55 \n",
      "\n",
      "/Users/lynch_mini/Documents/SML/5ARB0_1_1/data/2022-09-09_13-14-55 missing.\n",
      "Read path: /Users/lynch_mini/Documents/SML/5ARB0_1_1/data/2022-09-16_11-15-46 \n",
      "\n",
      "Match folder, 2 /Users/lynch_mini/Documents/SML/5ARB0_1_1/data/2022-09-16_11-15-46 \n",
      "\n",
      "Final return file router: /Users/lynch_mini/Documents/SML/5ARB0_1_1/data/2022-09-16_11-15-46\n"
     ]
    },
    {
     "data": {
      "text/plain": [
       "['Orientation.csv',\n",
       " 'GyroscopeUncalibrated.csv',\n",
       " 'Accelerometer.csv',\n",
       " 'Gyroscope.csv',\n",
       " 'Gravity.csv']"
      ]
     },
     "execution_count": 262,
     "metadata": {},
     "output_type": "execute_result"
    }
   ],
   "source": [
    "Infiles = ['Accelerometer.csv', 'Gyroscope.csv'] # list of necessary files\n",
    "# get file route\n",
    "file_rt = Check_filesNo('data',Infiles,False) # return file return \n",
    "# print file route\n",
    "print('Final return file router:',file_rt)\n",
    "\n",
    "filename = find_csv_filenames(file_rt) # all csv under file_rt (route)\n"
   ]
  },
  {
   "cell_type": "markdown",
   "metadata": {},
   "source": [
    "## Load data and merge"
   ]
  },
  {
   "cell_type": "code",
   "execution_count": 263,
   "metadata": {},
   "outputs": [
    {
     "name": "stdout",
     "output_type": "stream",
     "text": [
      "Accelerometer.csv is in the list\n",
      "no null space in  Accelerometer.csv\n",
      "Gyroscope.csv is in the list\n",
      "no null space in  Gyroscope.csv\n"
     ]
    },
    {
     "data": {
      "text/html": [
       "<div>\n",
       "<style scoped>\n",
       "    .dataframe tbody tr th:only-of-type {\n",
       "        vertical-align: middle;\n",
       "    }\n",
       "\n",
       "    .dataframe tbody tr th {\n",
       "        vertical-align: top;\n",
       "    }\n",
       "\n",
       "    .dataframe thead th {\n",
       "        text-align: right;\n",
       "    }\n",
       "</style>\n",
       "<table border=\"1\" class=\"dataframe\">\n",
       "  <thead>\n",
       "    <tr style=\"text-align: right;\">\n",
       "      <th></th>\n",
       "      <th>seconds_elapsed</th>\n",
       "      <th>z</th>\n",
       "      <th>y</th>\n",
       "      <th>x</th>\n",
       "    </tr>\n",
       "  </thead>\n",
       "  <tbody>\n",
       "    <tr>\n",
       "      <th>0</th>\n",
       "      <td>0.759861</td>\n",
       "      <td>0.082162</td>\n",
       "      <td>0.445240</td>\n",
       "      <td>-0.873332</td>\n",
       "    </tr>\n",
       "    <tr>\n",
       "      <th>1</th>\n",
       "      <td>0.769817</td>\n",
       "      <td>0.098772</td>\n",
       "      <td>0.138311</td>\n",
       "      <td>-0.701677</td>\n",
       "    </tr>\n",
       "    <tr>\n",
       "      <th>2</th>\n",
       "      <td>0.779774</td>\n",
       "      <td>-0.081512</td>\n",
       "      <td>0.295334</td>\n",
       "      <td>-0.287733</td>\n",
       "    </tr>\n",
       "    <tr>\n",
       "      <th>3</th>\n",
       "      <td>0.789730</td>\n",
       "      <td>-0.106220</td>\n",
       "      <td>0.693047</td>\n",
       "      <td>-0.036407</td>\n",
       "    </tr>\n",
       "    <tr>\n",
       "      <th>4</th>\n",
       "      <td>0.799687</td>\n",
       "      <td>-0.162763</td>\n",
       "      <td>0.920265</td>\n",
       "      <td>0.441457</td>\n",
       "    </tr>\n",
       "    <tr>\n",
       "      <th>...</th>\n",
       "      <td>...</td>\n",
       "      <td>...</td>\n",
       "      <td>...</td>\n",
       "      <td>...</td>\n",
       "    </tr>\n",
       "    <tr>\n",
       "      <th>2059</th>\n",
       "      <td>21.260829</td>\n",
       "      <td>0.084030</td>\n",
       "      <td>-0.057202</td>\n",
       "      <td>0.011003</td>\n",
       "    </tr>\n",
       "    <tr>\n",
       "      <th>2060</th>\n",
       "      <td>21.270785</td>\n",
       "      <td>0.002930</td>\n",
       "      <td>-0.026044</td>\n",
       "      <td>0.054504</td>\n",
       "    </tr>\n",
       "    <tr>\n",
       "      <th>2061</th>\n",
       "      <td>21.280742</td>\n",
       "      <td>-0.114242</td>\n",
       "      <td>-0.038044</td>\n",
       "      <td>0.070609</td>\n",
       "    </tr>\n",
       "    <tr>\n",
       "      <th>2062</th>\n",
       "      <td>21.290699</td>\n",
       "      <td>-0.106477</td>\n",
       "      <td>-0.095897</td>\n",
       "      <td>0.024422</td>\n",
       "    </tr>\n",
       "    <tr>\n",
       "      <th>2063</th>\n",
       "      <td>21.300656</td>\n",
       "      <td>-0.046183</td>\n",
       "      <td>-0.143621</td>\n",
       "      <td>-0.001448</td>\n",
       "    </tr>\n",
       "  </tbody>\n",
       "</table>\n",
       "<p>2064 rows × 4 columns</p>\n",
       "</div>"
      ],
      "text/plain": [
       "      seconds_elapsed         z         y         x\n",
       "0            0.759861  0.082162  0.445240 -0.873332\n",
       "1            0.769817  0.098772  0.138311 -0.701677\n",
       "2            0.779774 -0.081512  0.295334 -0.287733\n",
       "3            0.789730 -0.106220  0.693047 -0.036407\n",
       "4            0.799687 -0.162763  0.920265  0.441457\n",
       "...               ...       ...       ...       ...\n",
       "2059        21.260829  0.084030 -0.057202  0.011003\n",
       "2060        21.270785  0.002930 -0.026044  0.054504\n",
       "2061        21.280742 -0.114242 -0.038044  0.070609\n",
       "2062        21.290699 -0.106477 -0.095897  0.024422\n",
       "2063        21.300656 -0.046183 -0.143621 -0.001448\n",
       "\n",
       "[2064 rows x 4 columns]"
      ]
     },
     "execution_count": 263,
     "metadata": {},
     "output_type": "execute_result"
    }
   ],
   "source": [
    "df = readCSVfiles(filename,file_rt, Infiles)  # pd.read csv file\n",
    "df.keys()\n",
    "df[Infiles[0]]"
   ]
  },
  {
   "cell_type": "code",
   "execution_count": 258,
   "metadata": {},
   "outputs": [
    {
     "name": "stdout",
     "output_type": "stream",
     "text": [
      "Accelerometer.csv is in the list\n",
      "no null space in  Accelerometer.csv\n",
      "Gyroscope.csv is in the list\n",
      "no null space in  Gyroscope.csv\n",
      "   seconds_elapsed       z_x       y_x       x_x       z_y       y_y       x_y\n",
      "0         0.363762 -0.039654  0.008823  0.047876 -0.017933 -0.060415 -0.101290\n",
      "1         0.373718 -0.033757  0.031181  0.042790 -0.019924 -0.047820 -0.100477\n",
      "2         0.383675 -0.014062  0.031267  0.015677 -0.015051 -0.042500 -0.094045\n",
      "Match\n",
      "(644, 7)\n"
     ]
    }
   ],
   "source": [
    "# read csv which are necessary\n",
    "# return dictionary with no-null dataframe\n",
    "df = readCSVfiles(filename,file_rt, Infiles) \n",
    "df.keys()\n",
    "\n",
    "# merge files\n",
    "df_merge = pd.merge_asof(df[Infiles[0]], df[Infiles[1]], on='seconds_elapsed')\n",
    "# check merge result\n",
    "\n",
    "print(df_merge.head(3))\n",
    "r1 = df[Infiles[0]].shape[1] # number of rows\n",
    "r2 = df[Infiles[1]].shape[1]\n",
    "if (df_merge.shape[1]+1) == (r1+r2):\n",
    "    print('Match')\n",
    "else: \n",
    "    print('didnt match, merged row numbers:',df_merge.shape[1])\n",
    "print(df_merge.shape)"
   ]
  },
  {
   "cell_type": "markdown",
   "metadata": {},
   "source": [
    "# Remove initial 5 seconds and last 5 seconds"
   ]
  },
  {
   "cell_type": "code",
   "execution_count": 260,
   "metadata": {},
   "outputs": [
    {
     "name": "stdout",
     "output_type": "stream",
     "text": [
      "Elapsed recording time insufficient. \n",
      "\n",
      "Suggest load new record file in `Check_filesNo`.\n"
     ]
    }
   ],
   "source": [
    "# remove redunant second rows\n",
    "if max(df_merge['seconds_elapsed'])< 10: \n",
    "    print('Elapsed recording time insufficient.','\\n')\n",
    "    print('Suggest load new record file in `Check_filesNo`.')\n",
    "    data_trimmed = None\n",
    "else:\n",
    "    df_1 = df_merge[df_merge['seconds_elapsed'] > 5]\n",
    "    df = df_1[df_1['seconds_elapsed'] < (max(df_merge['seconds_elapsed'])- 5)]\n",
    "    data_trimmed = df.reset_index(drop=True)\n",
    "\n",
    "data_trimmed"
   ]
  }
 ],
 "metadata": {
  "kernelspec": {
   "display_name": "Python 3.8.13 ('5ARB0')",
   "language": "python",
   "name": "python3"
  },
  "language_info": {
   "codemirror_mode": {
    "name": "ipython",
    "version": 3
   },
   "file_extension": ".py",
   "mimetype": "text/x-python",
   "name": "python",
   "nbconvert_exporter": "python",
   "pygments_lexer": "ipython3",
   "version": "3.8.13"
  },
  "orig_nbformat": 4,
  "vscode": {
   "interpreter": {
    "hash": "683703be9e501d42eb1062168496abaf6cc281a4a57c34d2b34837f1ae5a63d6"
   }
  }
 },
 "nbformat": 4,
 "nbformat_minor": 2
}
